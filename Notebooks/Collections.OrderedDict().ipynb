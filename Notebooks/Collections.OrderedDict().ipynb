{
 "cells": [
  {
   "cell_type": "markdown",
   "id": "e0a0e7d5-cf8b-4683-a3ed-93f85d7b1f37",
   "metadata": {},
   "source": [
    "# HackerRank\n",
    "## Collections.OrderedDict()\n",
    "https://www.hackerrank.com/challenges/py-collections-ordereddict/problem"
   ]
  },
  {
   "cell_type": "code",
   "execution_count": 1,
   "id": "41d6270d-9c72-4ee4-93f3-6b303ae598d2",
   "metadata": {},
   "outputs": [],
   "source": [
    "# Inputs\n",
    "n = 9\n",
    "items = [\n",
    "    'BANANA FRIES 12',\n",
    "    'POTATO CHIPS 30',\n",
    "    'APPLE JUICE 10',\n",
    "    'CANDY 5',\n",
    "    'APPLE JUICE 10',\n",
    "    'CANDY 5',\n",
    "    'CANDY 5',\n",
    "    'CANDY 5',\n",
    "    'POTATO CHIPS 30'\n",
    "]"
   ]
  },
  {
   "cell_type": "code",
   "execution_count": 2,
   "id": "9c0ea15d-cae6-4204-a173-92a9fce2f4fb",
   "metadata": {},
   "outputs": [
    {
     "data": {
      "text/plain": [
       "OrderedDict([('BANANA FRIES', 12),\n",
       "             ('POTATO CHIPS', 60),\n",
       "             ('APPLE JUICE', 20),\n",
       "             ('CANDY', 20)])"
      ]
     },
     "execution_count": 2,
     "metadata": {},
     "output_type": "execute_result"
    }
   ],
   "source": [
    "from collections import OrderedDict\n",
    "\n",
    "def ordered_dict_func(items):\n",
    "    # Instantiate Ordered Dictionary\n",
    "    d = OrderedDict()\n",
    "    \n",
    "    # Iterate over list of items names and values\n",
    "    for i in items:\n",
    "        s = i.split(' ')\n",
    "        key = ' '.join(s[0:-1])\n",
    "        value = int(s[-1])\n",
    "        # Sum values if key is in dictionary\n",
    "        if key in d:\n",
    "            d[key] += value\n",
    "        else:\n",
    "            d[key] = value\n",
    "    return d\n",
    "    \n",
    "ordered_dict_func(items)"
   ]
  },
  {
   "cell_type": "code",
   "execution_count": 3,
   "id": "325d737e-a55d-439b-a355-26bb5063bc72",
   "metadata": {},
   "outputs": [
    {
     "name": "stdout",
     "output_type": "stream",
     "text": [
      "BANANA FRIES 12\n",
      "POTATO CHIPS 60\n",
      "APPLE JUICE 20\n",
      "CANDY 20\n"
     ]
    }
   ],
   "source": [
    "result = ordered_dict_func(items)\n",
    "\n",
    "for i in result:\n",
    "    print(i, result[i])"
   ]
  },
  {
   "cell_type": "markdown",
   "id": "c738789b-80ed-49ac-ba26-363ba1fd6dbb",
   "metadata": {},
   "source": [
    "## Another way to solve the problem"
   ]
  },
  {
   "cell_type": "code",
   "execution_count": 4,
   "id": "98463448-f44d-4bf2-a7d6-f3c1fccacc39",
   "metadata": {},
   "outputs": [
    {
     "name": "stdout",
     "output_type": "stream",
     "text": [
      "BANANA FRIES 12\n",
      "POTATO CHIPS 60\n",
      "APPLE JUICE 20\n",
      "CANDY 20\n"
     ]
    }
   ],
   "source": [
    "from collections import OrderedDict\n",
    "d = OrderedDict()\n",
    "\n",
    "for value in items:\n",
    "    item, space, quantity = value.rpartition(' ')\n",
    "    d[item] = d.get(item, 0) + int(quantity)\n",
    "\n",
    "for item, quantity in d.items():\n",
    "    print(item, quantity)"
   ]
  },
  {
   "cell_type": "code",
   "execution_count": 5,
   "id": "baf5db81-3745-4e12-afe7-35b248e417fc",
   "metadata": {},
   "outputs": [
    {
     "name": "stdout",
     "output_type": "stream",
     "text": [
      "OrderedDict([('BANANA FRIES', 12)])\n",
      "OrderedDict([('BANANA FRIES', 12), ('POTATO CHIPS', 30)])\n",
      "OrderedDict([('BANANA FRIES', 12), ('POTATO CHIPS', 30), ('APPLE JUICE', 10)])\n",
      "OrderedDict([('BANANA FRIES', 12), ('POTATO CHIPS', 30), ('APPLE JUICE', 10), ('CANDY', 5)])\n",
      "OrderedDict([('BANANA FRIES', 12), ('POTATO CHIPS', 30), ('APPLE JUICE', 20), ('CANDY', 5)])\n",
      "OrderedDict([('BANANA FRIES', 12), ('POTATO CHIPS', 30), ('APPLE JUICE', 20), ('CANDY', 10)])\n",
      "OrderedDict([('BANANA FRIES', 12), ('POTATO CHIPS', 30), ('APPLE JUICE', 20), ('CANDY', 15)])\n",
      "OrderedDict([('BANANA FRIES', 12), ('POTATO CHIPS', 30), ('APPLE JUICE', 20), ('CANDY', 20)])\n",
      "OrderedDict([('BANANA FRIES', 12), ('POTATO CHIPS', 60), ('APPLE JUICE', 20), ('CANDY', 20)])\n"
     ]
    }
   ],
   "source": [
    "d = OrderedDict()\n",
    "\n",
    "for value in items:\n",
    "    item, space, quantity = value.rpartition(' ')\n",
    "    d[item] = d.get(item, 0) + int(quantity)\n",
    "    print(d)"
   ]
  },
  {
   "cell_type": "markdown",
   "id": "4e429e98-c757-4e6d-810b-ee7a62418885",
   "metadata": {},
   "source": [
    "Python String `rpartition()` Method searches for the last occurrence of the passed argument, and returns a tuple with the elements."
   ]
  },
  {
   "cell_type": "code",
   "execution_count": 6,
   "id": "039dd0a5-822e-4891-b989-e3b1aba46f5e",
   "metadata": {},
   "outputs": [
    {
     "name": "stdout",
     "output_type": "stream",
     "text": [
      "('I could eat bananas all day, ', 'bananas', ' are my favorite fruit')\n"
     ]
    }
   ],
   "source": [
    "# Example\n",
    "txt = \"I could eat bananas all day, bananas are my favorite fruit\"\n",
    "\n",
    "x = txt.rpartition(\"bananas\")\n",
    "\n",
    "print(x)"
   ]
  },
  {
   "cell_type": "code",
   "execution_count": null,
   "id": "b8570d47-5be9-485a-ae67-57c030113706",
   "metadata": {},
   "outputs": [],
   "source": []
  }
 ],
 "metadata": {
  "kernelspec": {
   "display_name": "Python 3",
   "language": "python",
   "name": "python3"
  },
  "language_info": {
   "codemirror_mode": {
    "name": "ipython",
    "version": 3
   },
   "file_extension": ".py",
   "mimetype": "text/x-python",
   "name": "python",
   "nbconvert_exporter": "python",
   "pygments_lexer": "ipython3",
   "version": "3.8.8"
  }
 },
 "nbformat": 4,
 "nbformat_minor": 5
}
