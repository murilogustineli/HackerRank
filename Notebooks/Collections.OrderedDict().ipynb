{
 "cells": [
  {
   "cell_type": "markdown",
   "id": "e0a0e7d5-cf8b-4683-a3ed-93f85d7b1f37",
   "metadata": {},
   "source": [
    "# HackerRank\n",
    "## Collections.OrderedDict()\n",
    "https://www.hackerrank.com/challenges/py-collections-ordereddict/problem"
   ]
  },
  {
   "cell_type": "code",
   "execution_count": 1,
   "id": "41d6270d-9c72-4ee4-93f3-6b303ae598d2",
   "metadata": {},
   "outputs": [],
   "source": [
    "# Inputs\n",
    "n = 9\n",
    "items = [\n",
    "    'BANANA FRIES 12',\n",
    "    'POTATO CHIPS 30',\n",
    "    'APPLE JUICE 10',\n",
    "    'CANDY 5',\n",
    "    'APPLE JUICE 10',\n",
    "    'CANDY 5',\n",
    "    'CANDY 5',\n",
    "    'CANDY 5',\n",
    "    'POTATO CHIPS 30'\n",
    "]"
   ]
  },
  {
   "cell_type": "code",
   "execution_count": 28,
   "id": "9c0ea15d-cae6-4204-a173-92a9fce2f4fb",
   "metadata": {},
   "outputs": [
    {
     "data": {
      "text/plain": [
       "OrderedDict([('BANANA FRIES', 12),\n",
       "             ('POTATO CHIPS', 60),\n",
       "             ('APPLE JUICE', 20),\n",
       "             ('CANDY', 20)])"
      ]
     },
     "execution_count": 28,
     "metadata": {},
     "output_type": "execute_result"
    }
   ],
   "source": [
    "from collections import OrderedDict\n",
    "\n",
    "def ordered_dict_func(items):\n",
    "    # Instantiate Ordered Dictionary\n",
    "    d = OrderedDict()\n",
    "    \n",
    "    # Iterate over list of items names and values\n",
    "    for i in items:\n",
    "        s = i.split(' ')\n",
    "        key = ' '.join(s[0:-1])\n",
    "        value = int(s[-1])\n",
    "        # Sum values if key is in dictionary\n",
    "        if key in d:\n",
    "            d[key] += value\n",
    "        else:\n",
    "            d[key] = value\n",
    "    return d\n",
    "    \n",
    "ordered_dict_func(items)"
   ]
  },
  {
   "cell_type": "code",
   "execution_count": 31,
   "id": "325d737e-a55d-439b-a355-26bb5063bc72",
   "metadata": {},
   "outputs": [
    {
     "name": "stdout",
     "output_type": "stream",
     "text": [
      "BANANA FRIES 12\n",
      "POTATO CHIPS 60\n",
      "APPLE JUICE 20\n",
      "CANDY 20\n"
     ]
    }
   ],
   "source": [
    "result = ordered_dict_func(items)\n",
    "\n",
    "for i in result:\n",
    "    print(i, result[i])"
   ]
  },
  {
   "cell_type": "code",
   "execution_count": null,
   "id": "54eb12fa-8d74-4de2-a4f6-3e1f699f6199",
   "metadata": {},
   "outputs": [],
   "source": []
  }
 ],
 "metadata": {
  "kernelspec": {
   "display_name": "Python 3",
   "language": "python",
   "name": "python3"
  },
  "language_info": {
   "codemirror_mode": {
    "name": "ipython",
    "version": 3
   },
   "file_extension": ".py",
   "mimetype": "text/x-python",
   "name": "python",
   "nbconvert_exporter": "python",
   "pygments_lexer": "ipython3",
   "version": "3.8.8"
  }
 },
 "nbformat": 4,
 "nbformat_minor": 5
}
