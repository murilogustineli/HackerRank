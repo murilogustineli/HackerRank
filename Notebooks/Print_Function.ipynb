{
 "cells": [
  {
   "cell_type": "markdown",
   "id": "d593a389",
   "metadata": {},
   "source": [
    "# HackerRank\n",
    "### Print Function\n",
    "\n",
    "https://www.hackerrank.com/challenges/python-print/problem"
   ]
  },
  {
   "cell_type": "code",
   "execution_count": 3,
   "id": "5d39f76f",
   "metadata": {},
   "outputs": [],
   "source": [
    "import random"
   ]
  },
  {
   "cell_type": "code",
   "execution_count": 40,
   "id": "9f70d4d1",
   "metadata": {},
   "outputs": [
    {
     "name": "stdout",
     "output_type": "stream",
     "text": [
      "1, 2, 3, 4, 5, 6, 7, 8, 9, 10, 11, 12, 13, 14, 15, 16, 17, 18, 19, 20, 21, 22, 23, 24, 25\n"
     ]
    }
   ],
   "source": [
    "n = random.randint(20, 30)\n",
    "lst = []\n",
    "\n",
    "def print_func(x):\n",
    "    for i in range(1, x+1):\n",
    "        lst.append(i)\n",
    "\n",
    "print_func(n)\n",
    "print(*lst, sep=', ')"
   ]
  },
  {
   "cell_type": "code",
   "execution_count": null,
   "id": "c5cef1b2",
   "metadata": {},
   "outputs": [],
   "source": []
  }
 ],
 "metadata": {
  "kernelspec": {
   "display_name": "Python 3",
   "language": "python",
   "name": "python3"
  },
  "language_info": {
   "codemirror_mode": {
    "name": "ipython",
    "version": 3
   },
   "file_extension": ".py",
   "mimetype": "text/x-python",
   "name": "python",
   "nbconvert_exporter": "python",
   "pygments_lexer": "ipython3",
   "version": "3.8.8"
  }
 },
 "nbformat": 4,
 "nbformat_minor": 5
}
