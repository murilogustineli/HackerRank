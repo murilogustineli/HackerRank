{
 "cells": [
  {
   "cell_type": "markdown",
   "id": "a3623dba-92e8-4443-a3cb-65963e11017f",
   "metadata": {},
   "source": [
    "# Hacker Rank\n",
    "\n",
    "## itertools.product()\n",
    "\n",
    "https://www.hackerrank.com/challenges/itertools-product/problem"
   ]
  },
  {
   "cell_type": "code",
   "execution_count": 1,
   "id": "428f3c09-5da1-40ab-aaf4-d131b3ce17c1",
   "metadata": {},
   "outputs": [
    {
     "name": "stdout",
     "output_type": "stream",
     "text": [
      "[(1, 1), (1, 2), (1, 3), (2, 1), (2, 2), (2, 3), (3, 1), (3, 2), (3, 3)]\n"
     ]
    }
   ],
   "source": [
    "from itertools import product\n",
    "\n",
    "print(list(product([1,2,3], repeat = 2)))"
   ]
  },
  {
   "cell_type": "code",
   "execution_count": 2,
   "id": "ea69d0c9-fa6c-470a-aa45-09d75a4bbfae",
   "metadata": {},
   "outputs": [
    {
     "name": "stdout",
     "output_type": "stream",
     "text": [
      "[(1, 3), (1, 4), (2, 3), (2, 4), (3, 3), (3, 4)]\n"
     ]
    }
   ],
   "source": [
    "print(list(product([1,2,3],[3,4])))"
   ]
  },
  {
   "cell_type": "code",
   "execution_count": 3,
   "id": "00dc4dd5-eaf2-4e92-a35c-06fe21350c48",
   "metadata": {},
   "outputs": [
    {
     "name": "stdout",
     "output_type": "stream",
     "text": [
      "[(1, 3), (1, 4), (1, 5), (2, 3), (2, 4), (2, 5), (3, 3), (3, 4), (3, 5)]\n"
     ]
    }
   ],
   "source": [
    "A = [[1,2,3], [3,4,5]]\n",
    "print(list(product(*A)))"
   ]
  },
  {
   "cell_type": "code",
   "execution_count": 4,
   "id": "7e92bc35-0819-4ce5-935d-895c354bdea8",
   "metadata": {},
   "outputs": [
    {
     "name": "stdout",
     "output_type": "stream",
     "text": [
      "[(1, 3, 7), (1, 3, 8), (1, 4, 7), (1, 4, 8), (1, 5, 7), (1, 5, 8), (2, 3, 7), (2, 3, 8), (2, 4, 7), (2, 4, 8), (2, 5, 7), (2, 5, 8), (3, 3, 7), (3, 3, 8), (3, 4, 7), (3, 4, 8), (3, 5, 7), (3, 5, 8)]\n"
     ]
    }
   ],
   "source": [
    "B = [[1,2,3],[3,4,5],[7,8]]\n",
    "print(list(product(*B)))"
   ]
  },
  {
   "cell_type": "markdown",
   "id": "4b855fd4-e5fe-47b8-99f6-1eaec2cb6215",
   "metadata": {},
   "source": [
    "### Task\n",
    "\n",
    "You are given a two lists  and . Your task is to compute their cartesian product X.\n",
    "\n",
    "Example\n",
    "<br>$A$ = [1, 2]\n",
    "<br>$B$ = [3, 4]\n",
    "\n",
    "$A\\times B$ = [(1, 3), (1, 4), (2, 3), (2, 4)]"
   ]
  },
  {
   "cell_type": "code",
   "execution_count": 5,
   "id": "f484067f-4bf2-4652-9e85-e9b9e67a4a6b",
   "metadata": {},
   "outputs": [
    {
     "name": "stdout",
     "output_type": "stream",
     "text": [
      "[[1, 2], [3, 4]]\n",
      "[(1, 3), (1, 4), (2, 3), (2, 4)]\n"
     ]
    }
   ],
   "source": [
    "a  = [1, 2]\n",
    "b  = [3, 4]\n",
    "c = [a, b]\n",
    "print(c)\n",
    "\n",
    "print(list(product(*c)))"
   ]
  },
  {
   "cell_type": "code",
   "execution_count": 6,
   "id": "caea1272-41c5-40f9-8f6b-b46ccacfa751",
   "metadata": {},
   "outputs": [
    {
     "name": "stdout",
     "output_type": "stream",
     "text": [
      "[1, 2, 3]\n"
     ]
    }
   ],
   "source": [
    "string_list = ['1', '2', '3']\n",
    "\n",
    "integer_map = map(int, string_list) # Maps each string to an int\n",
    "integer_list = list(integer_map) # Converts mapped output to a list of ints\n",
    "\n",
    "print(integer_list)"
   ]
  },
  {
   "cell_type": "code",
   "execution_count": 7,
   "id": "fea1405d-f0d7-4b98-a7e6-3810c45b41dc",
   "metadata": {},
   "outputs": [
    {
     "name": "stdout",
     "output_type": "stream",
     "text": [
      "(1, 3) (1, 4) (2, 3) (2, 4) "
     ]
    }
   ],
   "source": [
    "from itertools import product\n",
    "\n",
    "inp1 = '1 2'\n",
    "inp2 = '3 4'\n",
    "\n",
    "a = list(map(int, inp1.split(' ')))\n",
    "b = list(map(int, inp2.split(' ')))\n",
    "\n",
    "# product of A and B\n",
    "x = [a, b]\n",
    "prod = list(product(*x))\n",
    "\n",
    "for i in prod:\n",
    "    print(i, end=' ')"
   ]
  },
  {
   "cell_type": "code",
   "execution_count": null,
   "id": "14c4b656-0309-414b-822b-5c4f451c7eff",
   "metadata": {},
   "outputs": [],
   "source": []
  }
 ],
 "metadata": {
  "kernelspec": {
   "display_name": "Python 3",
   "language": "python",
   "name": "python3"
  },
  "language_info": {
   "codemirror_mode": {
    "name": "ipython",
    "version": 3
   },
   "file_extension": ".py",
   "mimetype": "text/x-python",
   "name": "python",
   "nbconvert_exporter": "python",
   "pygments_lexer": "ipython3",
   "version": "3.8.8"
  }
 },
 "nbformat": 4,
 "nbformat_minor": 5
}
