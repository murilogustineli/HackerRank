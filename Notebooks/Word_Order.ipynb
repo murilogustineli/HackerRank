{
 "cells": [
  {
   "cell_type": "markdown",
   "id": "6d0b94c1-4be5-4e1d-be04-eddfcaaf24eb",
   "metadata": {},
   "source": [
    "# HackerRank\n",
    "## Word Order\n",
    "https://www.hackerrank.com/challenges/word-order/problem"
   ]
  },
  {
   "cell_type": "code",
   "execution_count": 1,
   "id": "fae0e70b-c769-4fbc-a6dd-1b44f308b9c1",
   "metadata": {},
   "outputs": [],
   "source": [
    "# Input\n",
    "num_words = 4\n",
    "word_list = ['bcdef', 'abcdefg', 'bcde', 'bcdef']"
   ]
  },
  {
   "cell_type": "code",
   "execution_count": 2,
   "id": "88694b18-9f49-4267-8aaa-709578acc4c6",
   "metadata": {},
   "outputs": [
    {
     "name": "stdout",
     "output_type": "stream",
     "text": [
      "3\n",
      "2 1 1 "
     ]
    }
   ],
   "source": [
    "# Enter your code here. Read input from STDIN. Print output to STDOUT\n",
    "from collections import defaultdict\n",
    "d = defaultdict(list)\n",
    "\n",
    "num_words = 4\n",
    "word_list = ['bcdef', 'abcdefg', 'bcde', 'bcdef']\n",
    "\n",
    "# Unique words\n",
    "set_list = set(word_list)\n",
    "print(len(set_list))\n",
    "\n",
    "# Number of occurrences for each distinct word\n",
    "count = 0\n",
    "word_count = []\n",
    "for i in range(num_words):\n",
    "    if word_list[i] in set_list:\n",
    "        count += 1\n",
    "        d[word_list[i]].append(i+1)\n",
    "        \n",
    "for i in d:\n",
    "    print(len(d[i]), end=' ')"
   ]
  },
  {
   "cell_type": "markdown",
   "id": "c0c5f18d-3ccf-4e79-97a8-3aa81ba926b3",
   "metadata": {},
   "source": [
    "### Another way to solve it"
   ]
  },
  {
   "cell_type": "code",
   "execution_count": 3,
   "id": "685d4ab5-f091-4a90-928f-ac8144ad4133",
   "metadata": {},
   "outputs": [
    {
     "name": "stdout",
     "output_type": "stream",
     "text": [
      "3\n",
      "2 1 1\n"
     ]
    }
   ],
   "source": [
    "from collections import OrderedDict\n",
    "words = OrderedDict()\n",
    "\n",
    "num_words = 4\n",
    "word_list = ['bcdef', 'abcdefg', 'bcde', 'bcdef']\n",
    "\n",
    "for i in range(num_words):\n",
    "    word = word_list[i]\n",
    "    words.setdefault(word, 0)\n",
    "    words[word] += 1\n",
    "    \n",
    "print(len(words))\n",
    "print(*words.values())"
   ]
  },
  {
   "cell_type": "code",
   "execution_count": null,
   "id": "a5ced1d6-d916-4960-9dc6-985b3e102d05",
   "metadata": {},
   "outputs": [],
   "source": []
  }
 ],
 "metadata": {
  "kernelspec": {
   "display_name": "Python 3",
   "language": "python",
   "name": "python3"
  },
  "language_info": {
   "codemirror_mode": {
    "name": "ipython",
    "version": 3
   },
   "file_extension": ".py",
   "mimetype": "text/x-python",
   "name": "python",
   "nbconvert_exporter": "python",
   "pygments_lexer": "ipython3",
   "version": "3.8.8"
  }
 },
 "nbformat": 4,
 "nbformat_minor": 5
}
