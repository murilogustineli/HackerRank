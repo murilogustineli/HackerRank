{
 "cells": [
  {
   "cell_type": "markdown",
   "id": "da5bd919-1948-4019-921a-e436567f05c3",
   "metadata": {},
   "source": [
    "# Hacker Rank\n",
    "\n",
    "## Introduction to Sets\n",
    "\n",
    "https://www.hackerrank.com/challenges/py-introduction-to-sets/problem"
   ]
  },
  {
   "cell_type": "code",
   "execution_count": 1,
   "id": "dce4ab21-a73d-4266-9709-32a5b19ea12d",
   "metadata": {},
   "outputs": [
    {
     "name": "stdout",
     "output_type": "stream",
     "text": [
      "set()\n"
     ]
    }
   ],
   "source": [
    "print(set())"
   ]
  },
  {
   "cell_type": "code",
   "execution_count": 2,
   "id": "0fd7b9bb-4dce-45f6-8852-f6f2ba9579b9",
   "metadata": {},
   "outputs": [
    {
     "name": "stdout",
     "output_type": "stream",
     "text": [
      "{1, 2, 3, 4, 5}\n"
     ]
    }
   ],
   "source": [
    "print(set((1,2,3,4,5,5)))"
   ]
  },
  {
   "cell_type": "code",
   "execution_count": 3,
   "id": "3bdc7e88-b69e-4e61-bc95-312023398b7a",
   "metadata": {},
   "outputs": [
    {
     "name": "stdout",
     "output_type": "stream",
     "text": [
      "{1, 2, 3, 4, 5}\n"
     ]
    }
   ],
   "source": [
    "print(set([1,2,3,4,5,5]))"
   ]
  },
  {
   "cell_type": "code",
   "execution_count": 4,
   "id": "ae3dcc4f-57e1-41c7-abc2-1fd7e67f96d4",
   "metadata": {},
   "outputs": [
    {
     "name": "stdout",
     "output_type": "stream",
     "text": [
      "{'Rank', 'Hacker'}\n"
     ]
    }
   ],
   "source": [
    "print(set({'Hacker' : 'DOSHI', 'Rank' : 616 }))"
   ]
  },
  {
   "cell_type": "markdown",
   "id": "e9c7ef9b-b9a7-408a-b940-6a5960308c83",
   "metadata": {},
   "source": [
    "### Task\n",
    "Now, let's use our knowledge of sets and help Mickey.\n",
    "\n",
    "Ms. Gabriel Williams is a botany professor at District College. One day, she asked her student Mickey to compute the average of all the plants with distinct heights in her greenhouse.\n",
    "\n",
    "__Formula used:__\n",
    "\n",
    "$$\n",
    "Average=\\frac{Sum\\ \\ of\\ \\ distinct\\ \\ heights}{Total\\ \\ Number\\ \\ of\\ \\ distinct\\ \\ heights}\n",
    "$$\n",
    "\n",
    "__Function Description__\n",
    "<br>Complete the average function in the editor below.\n",
    "\n",
    "average has the following parameters:\n",
    "- int arr: an array of integers\n",
    "\n",
    "__Returns__\n",
    "- float: the resulting float value rounded to 3 places after the decimal\n",
    "\n",
    "__Input Format__\n",
    "<br>The first line contains the integer, , the size of .\n",
    "<br>The second line contains the  space-separated integers, .\n",
    "\n",
    "__Constraints__\n",
    "<br>$0 < N \\leqslant 100$ \n",
    "\n",
    "__Sample Input__\n",
    "\n",
    "STDIN |                                      Function\n",
    "----- |                                      --------\n",
    "10                                          | arr[] size N = 10\n",
    "161 182 161 154 176 170 167 171 170 174     | arr = [161, 181, ..., 174]\n",
    "\n",
    "__Sample Output__\n",
    "<br>169.375\n",
    "\n",
    "__Explanation__\n",
    "<br>Here, set is the set containing the distinct heights. Using the sum() and len() functions, we can compute the average."
   ]
  },
  {
   "cell_type": "code",
   "execution_count": 5,
   "id": "29fcd8af-7c75-4833-b012-dcac6397a71c",
   "metadata": {},
   "outputs": [
    {
     "data": {
      "text/plain": [
       "169.375"
      ]
     },
     "execution_count": 5,
     "metadata": {},
     "output_type": "execute_result"
    }
   ],
   "source": [
    "n = 10\n",
    "arr = [161, 182, 161, 154, 176, 170, 167, 171, 170, 174]\n",
    "\n",
    "def average(array):\n",
    "    dist = set(array)\n",
    "    avg = sum(dist) / len(dist)\n",
    "    return avg\n",
    "\n",
    "average(arr)"
   ]
  },
  {
   "cell_type": "code",
   "execution_count": null,
   "id": "207171e4-154d-470c-9ebe-35a2fa2a8e39",
   "metadata": {},
   "outputs": [],
   "source": []
  }
 ],
 "metadata": {
  "kernelspec": {
   "display_name": "Python 3",
   "language": "python",
   "name": "python3"
  },
  "language_info": {
   "codemirror_mode": {
    "name": "ipython",
    "version": 3
   },
   "file_extension": ".py",
   "mimetype": "text/x-python",
   "name": "python",
   "nbconvert_exporter": "python",
   "pygments_lexer": "ipython3",
   "version": "3.8.8"
  }
 },
 "nbformat": 4,
 "nbformat_minor": 5
}
