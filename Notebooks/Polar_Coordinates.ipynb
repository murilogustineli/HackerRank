{
 "cells": [
  {
   "cell_type": "markdown",
   "id": "dba643fc",
   "metadata": {},
   "source": [
    "# HackerRank\n",
    "\n",
    "## Polar Coordinates\n",
    "\n",
    "https://www.hackerrank.com/challenges/polar-coordinates/problem"
   ]
  },
  {
   "cell_type": "code",
   "execution_count": 1,
   "id": "ab07e391",
   "metadata": {},
   "outputs": [
    {
     "data": {
      "text/plain": [
       "1.1071487177940904"
      ]
     },
     "execution_count": 1,
     "metadata": {},
     "output_type": "execute_result"
    }
   ],
   "source": [
    "import cmath\n",
    "\n",
    "z = 1+2j\n",
    "\n",
    "cmath.phase(complex(z))"
   ]
  },
  {
   "cell_type": "code",
   "execution_count": 2,
   "id": "6a88ba25",
   "metadata": {},
   "outputs": [
    {
     "name": "stdout",
     "output_type": "stream",
     "text": [
      "(1+2j)\n"
     ]
    }
   ],
   "source": [
    "num = complex(z)\n",
    "print(num)"
   ]
  },
  {
   "cell_type": "code",
   "execution_count": 3,
   "id": "58a86bbe",
   "metadata": {},
   "outputs": [
    {
     "name": "stdout",
     "output_type": "stream",
     "text": [
      "2.23606797749979\n"
     ]
    }
   ],
   "source": [
    "r = abs(complex(z))\n",
    "print(r)"
   ]
  },
  {
   "cell_type": "code",
   "execution_count": 4,
   "id": "5cf6f143",
   "metadata": {},
   "outputs": [
    {
     "name": "stdout",
     "output_type": "stream",
     "text": [
      "1.1071487177940904\n"
     ]
    }
   ],
   "source": [
    "p = cmath.phase(z)\n",
    "print(p)"
   ]
  },
  {
   "cell_type": "markdown",
   "id": "2c73e809",
   "metadata": {},
   "source": [
    "## Another way to solve the problem"
   ]
  },
  {
   "cell_type": "code",
   "execution_count": 5,
   "id": "acf615d2",
   "metadata": {},
   "outputs": [
    {
     "name": "stdout",
     "output_type": "stream",
     "text": [
      "2.23606797749979\n",
      "1.1071487177940904\n"
     ]
    }
   ],
   "source": [
    "import cmath\n",
    "\n",
    "z = '1+2j'\n",
    "\n",
    "print(*cmath.polar(complex(z)), sep='\\n')"
   ]
  }
 ],
 "metadata": {
  "kernelspec": {
   "display_name": "Python 3",
   "language": "python",
   "name": "python3"
  },
  "language_info": {
   "codemirror_mode": {
    "name": "ipython",
    "version": 3
   },
   "file_extension": ".py",
   "mimetype": "text/x-python",
   "name": "python",
   "nbconvert_exporter": "python",
   "pygments_lexer": "ipython3",
   "version": "3.7.10"
  }
 },
 "nbformat": 4,
 "nbformat_minor": 5
}
