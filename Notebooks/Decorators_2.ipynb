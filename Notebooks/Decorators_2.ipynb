{
 "cells": [
  {
   "cell_type": "markdown",
   "id": "68dfe53c",
   "metadata": {},
   "source": [
    "# HackerRank\n",
    "## Decorators 2\n",
    "https://www.hackerrank.com/challenges/decorators-2-name-directory/problem"
   ]
  },
  {
   "cell_type": "code",
   "execution_count": 1,
   "id": "83a95996",
   "metadata": {},
   "outputs": [],
   "source": [
    "n = 3\n",
    "names = 'Mike Thomson 20 M, Robert Bustle 32 M, Andria Bustle 30 F'\n",
    "names  = names.split(', ')\n",
    "people = [i.split() for i in names]"
   ]
  },
  {
   "cell_type": "code",
   "execution_count": 2,
   "id": "caa72a89",
   "metadata": {},
   "outputs": [
    {
     "name": "stdout",
     "output_type": "stream",
     "text": [
      "Mr. Mike Thomson\n",
      "Ms. Andria Bustle\n",
      "Mr. Robert Bustle\n"
     ]
    }
   ],
   "source": [
    "import operator\n",
    "\n",
    "def person_lister(f):\n",
    "    def inner(people):\n",
    "        # complete the function\n",
    "        return map(f, sorted(people, key=lambda x: x[2]))        \n",
    "    return inner\n",
    "\n",
    "@person_lister\n",
    "def name_format(person):\n",
    "    return (\"Mr. \" if person[3] == \"M\" else \"Ms. \") + person[0] + \" \" + person[1]\n",
    "\n",
    "if __name__ == '__main__':\n",
    "    people = people\n",
    "    print(*name_format(people), sep='\\n')"
   ]
  }
 ],
 "metadata": {
  "kernelspec": {
   "display_name": "Python 3",
   "language": "python",
   "name": "python3"
  },
  "language_info": {
   "codemirror_mode": {
    "name": "ipython",
    "version": 3
   },
   "file_extension": ".py",
   "mimetype": "text/x-python",
   "name": "python",
   "nbconvert_exporter": "python",
   "pygments_lexer": "ipython3",
   "version": "3.7.10"
  }
 },
 "nbformat": 4,
 "nbformat_minor": 5
}
