{
 "cells": [
  {
   "cell_type": "markdown",
   "id": "3dca0b29-eb35-43b6-8a49-d99dc3ec3fd2",
   "metadata": {},
   "source": [
    "# HackerRank\n",
    "## Merge the Tools!\n",
    "https://www.hackerrank.com/challenges/merge-the-tools/problem"
   ]
  },
  {
   "cell_type": "code",
   "execution_count": 1,
   "id": "2be1f977-c0ca-43d9-94c0-4d9c8f810b8f",
   "metadata": {},
   "outputs": [
    {
     "name": "stdout",
     "output_type": "stream",
     "text": [
      "AB\n",
      "CA\n",
      "AD\n"
     ]
    }
   ],
   "source": [
    "string = 'AABCAAADA'\n",
    "k = 3\n",
    "\n",
    "def merge_the_tools(string, k):\n",
    "    lst = [string[i:i+k] for i in range(0, len(string), k)]\n",
    "    set_list = [''.join(sorted(set(j), key=j.index)) for j in lst]\n",
    "    for i in set_list:\n",
    "        print(i)\n",
    "    \n",
    "merge_the_tools(string, k)"
   ]
  },
  {
   "cell_type": "markdown",
   "id": "980287ab-05f7-480c-9bfc-aa02c8a6f927",
   "metadata": {},
   "source": [
    "## Understanding the code"
   ]
  },
  {
   "cell_type": "code",
   "execution_count": 2,
   "id": "92e08dc9-3047-41ec-ac05-506d2b2dc4f8",
   "metadata": {},
   "outputs": [
    {
     "name": "stdout",
     "output_type": "stream",
     "text": [
      "['AAB', 'CAA', 'ADA']\n"
     ]
    }
   ],
   "source": [
    "lst = [string[i:i+k] for i in range(0, len(string), k)]\n",
    "print(lst)"
   ]
  },
  {
   "cell_type": "code",
   "execution_count": 3,
   "id": "4a5263e3-17bb-4dd7-912c-4d25c628fd2a",
   "metadata": {},
   "outputs": [
    {
     "name": "stdout",
     "output_type": "stream",
     "text": [
      "B A\n",
      "A C\n",
      "D A\n"
     ]
    }
   ],
   "source": [
    "for i in lst:\n",
    "    print(*set(i))"
   ]
  },
  {
   "cell_type": "code",
   "execution_count": 4,
   "id": "ab9141a9-62be-4be8-820c-6aa8e03bff21",
   "metadata": {},
   "outputs": [
    {
     "name": "stdout",
     "output_type": "stream",
     "text": [
      "['BA', 'AC', 'DA']\n"
     ]
    }
   ],
   "source": [
    "set_list = [''.join(set(i)) for i in lst]\n",
    "print(set_list)"
   ]
  },
  {
   "cell_type": "code",
   "execution_count": 5,
   "id": "7e1d275c-a3e5-4a9e-87aa-2d8f453b3ec5",
   "metadata": {},
   "outputs": [
    {
     "name": "stdout",
     "output_type": "stream",
     "text": [
      "['AB', 'CA', 'AD']\n"
     ]
    }
   ],
   "source": [
    "lst = []\n",
    "for i in range(0, len(string), k):\n",
    "    lst.append(string[i:i+k])\n",
    "    \n",
    "s_lst = []\n",
    "for j in lst:\n",
    "    s_lst.append(\"\".join(sorted(set(j), key=j.index)))\n",
    "    \n",
    "print(s_lst)"
   ]
  },
  {
   "cell_type": "code",
   "execution_count": null,
   "id": "9c3c7b93-37ce-49bf-ab08-6070beec795c",
   "metadata": {},
   "outputs": [],
   "source": []
  }
 ],
 "metadata": {
  "kernelspec": {
   "display_name": "Python 3",
   "language": "python",
   "name": "python3"
  },
  "language_info": {
   "codemirror_mode": {
    "name": "ipython",
    "version": 3
   },
   "file_extension": ".py",
   "mimetype": "text/x-python",
   "name": "python",
   "nbconvert_exporter": "python",
   "pygments_lexer": "ipython3",
   "version": "3.8.8"
  }
 },
 "nbformat": 4,
 "nbformat_minor": 5
}
