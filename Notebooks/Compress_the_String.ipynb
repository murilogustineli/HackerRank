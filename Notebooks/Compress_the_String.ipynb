{
 "cells": [
  {
   "cell_type": "markdown",
   "id": "7691d077-6d5f-4da5-848d-04f5e4aa0287",
   "metadata": {},
   "source": [
    "# Hacker Rank\n",
    "\n",
    "## Compress the String\n",
    "\n",
    "https://www.hackerrank.com/challenges/compress-the-string/problem"
   ]
  },
  {
   "cell_type": "code",
   "execution_count": 20,
   "id": "62b5b290-6e03-4687-bfab-67b61cee75d2",
   "metadata": {},
   "outputs": [
    {
     "name": "stdout",
     "output_type": "stream",
     "text": [
      "1 ['1']\n",
      "2 ['2', '2', '2']\n",
      "3 ['3']\n",
      "1 ['1', '1']\n"
     ]
    }
   ],
   "source": [
    "from itertools import *\n",
    "\n",
    "s = '1222311'\n",
    "sort_s = sorted(s)\n",
    "\n",
    "for i,k in groupby(s):\n",
    "    print(i, list(k))"
   ]
  },
  {
   "cell_type": "code",
   "execution_count": 31,
   "id": "9b13370f-97a4-4e41-9fb0-7332fde8f70d",
   "metadata": {},
   "outputs": [
    {
     "name": "stdout",
     "output_type": "stream",
     "text": [
      "(1, 1) (3, 2) (1, 3) (2, 1) "
     ]
    }
   ],
   "source": [
    "for i,j in groupby(s):\n",
    "    print('(' + str(len(list(j))) + ', ' + str(i) + ')', end=' ')"
   ]
  },
  {
   "cell_type": "markdown",
   "id": "8ddf9340-d5aa-4e34-a1ca-e66ae2a0baf7",
   "metadata": {},
   "source": [
    "### Another way to solve it"
   ]
  },
  {
   "cell_type": "code",
   "execution_count": 33,
   "id": "15c5a79c-c3c5-4e48-b946-0be3cd49a2b9",
   "metadata": {},
   "outputs": [
    {
     "name": "stdout",
     "output_type": "stream",
     "text": [
      "(1, 1) (3, 2) (1, 3) (2, 1) "
     ]
    }
   ],
   "source": [
    "# Using tuple\n",
    "for c, items in groupby(s):    \n",
    "    print(tuple([len(list(items)),int(c)]), end=' ')"
   ]
  },
  {
   "cell_type": "code",
   "execution_count": null,
   "id": "a548ea57-7929-4a39-9035-c2b1547ddd05",
   "metadata": {},
   "outputs": [],
   "source": []
  }
 ],
 "metadata": {
  "kernelspec": {
   "display_name": "Python 3",
   "language": "python",
   "name": "python3"
  },
  "language_info": {
   "codemirror_mode": {
    "name": "ipython",
    "version": 3
   },
   "file_extension": ".py",
   "mimetype": "text/x-python",
   "name": "python",
   "nbconvert_exporter": "python",
   "pygments_lexer": "ipython3",
   "version": "3.8.8"
  }
 },
 "nbformat": 4,
 "nbformat_minor": 5
}
