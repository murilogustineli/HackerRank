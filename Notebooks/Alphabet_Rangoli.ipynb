{
 "cells": [
  {
   "cell_type": "markdown",
   "id": "e66d16ff",
   "metadata": {},
   "source": [
    "# HackerRank\n",
    "### Alphabet Rangoli\n",
    "https://www.hackerrank.com/challenges/alphabet-rangoli/problem"
   ]
  },
  {
   "cell_type": "code",
   "execution_count": 1,
   "id": "0cfb02b7",
   "metadata": {},
   "outputs": [
    {
     "name": "stdout",
     "output_type": "stream",
     "text": [
      "5\n",
      "--------e--------\n",
      "------e-d-e------\n",
      "----e-d-c-d-e----\n",
      "--e-d-c-b-c-d-e--\n",
      "e-d-c-b-a-b-c-d-e\n",
      "--e-d-c-b-c-d-e--\n",
      "----e-d-c-d-e----\n",
      "------e-d-e------\n",
      "--------e--------\n"
     ]
    }
   ],
   "source": [
    "import string\n",
    "alpha = string.ascii_lowercase\n",
    "\n",
    "n = int(input())\n",
    "L = []\n",
    "for i in range(n):\n",
    "    s = \"-\".join(alpha[i:n])\n",
    "    L.append((s[::-1]+s[1:]).center(4*n-3, \"-\"))\n",
    "print('\\n'.join(L[:0:-1]+L))"
   ]
  },
  {
   "cell_type": "markdown",
   "id": "3c269d00",
   "metadata": {},
   "source": [
    "### Understanding the code"
   ]
  },
  {
   "cell_type": "code",
   "execution_count": 2,
   "id": "c2415e75",
   "metadata": {},
   "outputs": [
    {
     "name": "stdout",
     "output_type": "stream",
     "text": [
      "0 5\n",
      "1 5\n",
      "2 5\n",
      "3 5\n",
      "4 5\n"
     ]
    }
   ],
   "source": [
    "n = 5\n",
    "\n",
    "for i in range(n):\n",
    "    print(i, n)"
   ]
  },
  {
   "cell_type": "code",
   "execution_count": 3,
   "id": "8326e574",
   "metadata": {},
   "outputs": [
    {
     "name": "stdout",
     "output_type": "stream",
     "text": [
      "a-b-c-d-e\n",
      "b-c-d-e\n",
      "c-d-e\n",
      "d-e\n",
      "e\n"
     ]
    }
   ],
   "source": [
    "for i in range(n):\n",
    "    print('-'.join(alpha[i:n]))"
   ]
  },
  {
   "cell_type": "code",
   "execution_count": 4,
   "id": "54f22b32",
   "metadata": {},
   "outputs": [
    {
     "name": "stdout",
     "output_type": "stream",
     "text": [
      "e-d-c-b-a-b-c-d-e\n",
      "--e-d-c-b-c-d-e--\n",
      "----e-d-c-d-e----\n",
      "------e-d-e------\n",
      "--------e--------\n"
     ]
    }
   ],
   "source": [
    "for i in range(n):\n",
    "    s = '-'.join(alpha[i:n])\n",
    "    print((s[::-1]+s[1:]).center(4*n-3,'-'))"
   ]
  },
  {
   "cell_type": "code",
   "execution_count": 5,
   "id": "361e4863",
   "metadata": {},
   "outputs": [
    {
     "name": "stdout",
     "output_type": "stream",
     "text": [
      "--------e--------\n",
      "------e-d-e------\n",
      "----e-d-c-d-e----\n",
      "--e-d-c-b-c-d-e--\n",
      "e-d-c-b-a-b-c-d-e\n",
      "--e-d-c-b-c-d-e--\n",
      "----e-d-c-d-e----\n",
      "------e-d-e------\n",
      "--------e--------\n"
     ]
    }
   ],
   "source": [
    "L = []\n",
    "for i in range(n):\n",
    "    s = '-'.join(alpha[i:n])\n",
    "    L.append((s[::-1]+s[1:]).center(4*n-3, '-'))\n",
    "\n",
    "print('\\n'.join(L[:0:-1]+L))"
   ]
  },
  {
   "cell_type": "code",
   "execution_count": null,
   "id": "4dfe111e",
   "metadata": {},
   "outputs": [],
   "source": []
  }
 ],
 "metadata": {
  "kernelspec": {
   "display_name": "Python 3",
   "language": "python",
   "name": "python3"
  },
  "language_info": {
   "codemirror_mode": {
    "name": "ipython",
    "version": 3
   },
   "file_extension": ".py",
   "mimetype": "text/x-python",
   "name": "python",
   "nbconvert_exporter": "python",
   "pygments_lexer": "ipython3",
   "version": "3.8.8"
  }
 },
 "nbformat": 4,
 "nbformat_minor": 5
}
