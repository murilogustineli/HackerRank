{
 "cells": [
  {
   "cell_type": "markdown",
   "id": "97e60fb9",
   "metadata": {},
   "source": [
    "# HackerRank\n",
    "\n",
    "## itertools.combinations()\n",
    "\n",
    "https://www.hackerrank.com/challenges/itertools-combinations/problem"
   ]
  },
  {
   "cell_type": "code",
   "execution_count": 1,
   "id": "1a22142d",
   "metadata": {},
   "outputs": [
    {
     "name": "stdout",
     "output_type": "stream",
     "text": [
      "[('1', '2'), ('1', '3'), ('1', '4'), ('1', '5'), ('2', '3'), ('2', '4'), ('2', '5'), ('3', '4'), ('3', '5'), ('4', '5')]\n"
     ]
    }
   ],
   "source": [
    "# Sample code\n",
    "from itertools import combinations\n",
    "\n",
    "print(list(combinations('12345',2)))"
   ]
  },
  {
   "cell_type": "code",
   "execution_count": 2,
   "id": "8f46a803",
   "metadata": {},
   "outputs": [
    {
     "name": "stdout",
     "output_type": "stream",
     "text": [
      "[(1, 1, 3, 3), (1, 1, 3, 3), (1, 1, 3, 3), (1, 3, 3, 3), (1, 3, 3, 3)]\n"
     ]
    }
   ],
   "source": [
    "A = [1,1,3,3,3]\n",
    "print(list(combinations(A,4)))"
   ]
  },
  {
   "cell_type": "markdown",
   "id": "9c56ed1d",
   "metadata": {},
   "source": [
    "**Task**\n",
    "<br>You are given a string .\n",
    "<br>Your task is to print all possible combinations, up to size , of the string in lexicographic sorted order.\n",
    "\n",
    "**Input Format**\n",
    "<br>A single line containing the string  and integer value  separated by a space.\n",
    "\n",
    "**Constraints**\n",
    "<br>The string contains only UPPERCASE characters.\n",
    "\n",
    "**Output Format**\n",
    "<br>Print the different combinations of string  on separate lines.\n",
    "\n",
    "**Sample Input**\n",
    "<br>HACK 2\n",
    "\n",
    "**Sample Output**\n",
    "<br>A\n",
    "<br>C\n",
    "<br>H\n",
    "<br>K\n",
    "<br>AC\n",
    "<br>AH\n",
    "<br>AK\n",
    "<br>CH\n",
    "<br>CK\n",
    "<br>HK"
   ]
  },
  {
   "cell_type": "code",
   "execution_count": 3,
   "id": "12a86a76",
   "metadata": {},
   "outputs": [],
   "source": [
    "from itertools import combinations\n",
    "\n",
    "def combi(s, n):\n",
    "    s = sorted(s)\n",
    "    \n",
    "    comb = []\n",
    "    for k in range(2, int(n)+1):\n",
    "        comb.append(list(combinations(s, k)))\n",
    "    comb = sorted(comb)\n",
    "\n",
    "    for i in s:\n",
    "        print(i)\n",
    "    \n",
    "    for i in comb:\n",
    "        for j in i:\n",
    "            print(*j, sep='')"
   ]
  },
  {
   "cell_type": "code",
   "execution_count": 4,
   "id": "51afe6fe",
   "metadata": {},
   "outputs": [
    {
     "name": "stdout",
     "output_type": "stream",
     "text": [
      "A\n",
      "C\n",
      "H\n",
      "K\n",
      "AC\n",
      "AH\n",
      "AK\n",
      "CH\n",
      "CK\n",
      "HK\n"
     ]
    }
   ],
   "source": [
    "s = 'HACK'\n",
    "n = 2\n",
    "\n",
    "combi(s, n)"
   ]
  },
  {
   "cell_type": "code",
   "execution_count": 5,
   "id": "0e0ddc43",
   "metadata": {},
   "outputs": [
    {
     "name": "stdout",
     "output_type": "stream",
     "text": [
      "A\n",
      "B\n",
      "C\n",
      "D\n",
      "AB\n",
      "AC\n",
      "AD\n",
      "BC\n",
      "BD\n",
      "CD\n",
      "ABC\n",
      "ABD\n",
      "ACD\n",
      "BCD\n"
     ]
    }
   ],
   "source": [
    "s = 'ABCD'\n",
    "n = 3\n",
    "\n",
    "combi(s, n)"
   ]
  },
  {
   "cell_type": "code",
   "execution_count": null,
   "id": "d579975b",
   "metadata": {},
   "outputs": [],
   "source": []
  }
 ],
 "metadata": {
  "kernelspec": {
   "display_name": "Python 3",
   "language": "python",
   "name": "python3"
  },
  "language_info": {
   "codemirror_mode": {
    "name": "ipython",
    "version": 3
   },
   "file_extension": ".py",
   "mimetype": "text/x-python",
   "name": "python",
   "nbconvert_exporter": "python",
   "pygments_lexer": "ipython3",
   "version": "3.7.10"
  }
 },
 "nbformat": 4,
 "nbformat_minor": 5
}
