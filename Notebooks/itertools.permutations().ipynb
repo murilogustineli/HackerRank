{
 "cells": [
  {
   "cell_type": "markdown",
   "id": "d7a30124",
   "metadata": {},
   "source": [
    "# HackerRank\n",
    "\n",
    "## itertools.permutations()\n",
    "https://www.hackerrank.com/challenges/itertools-permutations/problem\n",
    "\n",
    "\n",
    "[itertools.permutations(iterable[, r])](https://docs.python.org/2/library/itertools.html#itertools.permutations)\n",
    "<br>This tool returns successive  length permutations of elements in an iterable.\n",
    "\n",
    "If  is not specified or is None, then  defaults to the length of the iterable, and all possible full length permutations are generated.\n",
    "\n",
    "Permutations are printed in a lexicographic sorted order. So, if the input iterable is sorted, the permutation tuples will be produced in a sorted order."
   ]
  },
  {
   "cell_type": "code",
   "execution_count": 8,
   "id": "12951631",
   "metadata": {},
   "outputs": [
    {
     "name": "stdout",
     "output_type": "stream",
     "text": [
      "<itertools.permutations object at 0x000002608933A708>\n"
     ]
    }
   ],
   "source": [
    "from itertools import permutations\n",
    "\n",
    "print(permutations(['1','2','3']))"
   ]
  },
  {
   "cell_type": "code",
   "execution_count": 9,
   "id": "678562ba",
   "metadata": {},
   "outputs": [
    {
     "name": "stdout",
     "output_type": "stream",
     "text": [
      "[('1', '2', '3'), ('1', '3', '2'), ('2', '1', '3'), ('2', '3', '1'), ('3', '1', '2'), ('3', '2', '1')]\n"
     ]
    }
   ],
   "source": [
    "print(list(permutations(['1','2','3'])))"
   ]
  },
  {
   "cell_type": "code",
   "execution_count": 10,
   "id": "56ce5fcd",
   "metadata": {},
   "outputs": [
    {
     "name": "stdout",
     "output_type": "stream",
     "text": [
      "[('1', '2'), ('1', '3'), ('2', '1'), ('2', '3'), ('3', '1'), ('3', '2')]\n"
     ]
    }
   ],
   "source": [
    "print(list(permutations(['1','2','3'],2)))"
   ]
  },
  {
   "cell_type": "code",
   "execution_count": 12,
   "id": "788e09b8",
   "metadata": {},
   "outputs": [
    {
     "name": "stdout",
     "output_type": "stream",
     "text": [
      "[('a', 'b', 'c'), ('a', 'c', 'b'), ('b', 'a', 'c'), ('b', 'c', 'a'), ('c', 'a', 'b'), ('c', 'b', 'a')]\n"
     ]
    }
   ],
   "source": [
    "print(list(permutations('abc',3)))"
   ]
  },
  {
   "cell_type": "markdown",
   "id": "62c09641",
   "metadata": {},
   "source": [
    "__Task__\n",
    "<br>You are given a string .\n",
    "<br>Your task is to print all possible permutations of size  of the string in lexicographic sorted order.\n",
    "\n",
    "**Input Format**\n",
    "<br>A single line containing the space separated string  and the integer value .\n",
    "\n",
    "**Constraints**\n",
    "<br>The string contains only UPPERCASE characters.\n",
    "\n",
    "**Output Format**\n",
    "<br>Print the permutations of the string  on separate lines.\n",
    "\n",
    "**Sample Input**\n",
    "<br>HACK 2\n",
    "\n",
    "**Sample Output**\n",
    "<br>AC\n",
    "<br>AH\n",
    "<br>AK\n",
    "<br>CA\n",
    "<br>CH\n",
    "<br>CK\n",
    "<br>HA\n",
    "<br>HC\n",
    "<br>HK\n",
    "<br>KA\n",
    "<br>KC\n",
    "<br>KH"
   ]
  },
  {
   "cell_type": "code",
   "execution_count": 29,
   "id": "cc8fea82",
   "metadata": {},
   "outputs": [
    {
     "name": "stdout",
     "output_type": "stream",
     "text": [
      "HA\n",
      "HC\n",
      "HK\n",
      "AH\n",
      "AC\n",
      "AK\n",
      "CH\n",
      "CA\n",
      "CK\n",
      "KH\n",
      "KA\n",
      "KC\n"
     ]
    }
   ],
   "source": [
    "from itertools import permutations\n",
    "\n",
    "s = 'HACK'\n",
    "\n",
    "perm = list(permutations(s,2))\n",
    "\n",
    "for i,j in perm:\n",
    "    print(str(i)+str(j))"
   ]
  },
  {
   "cell_type": "code",
   "execution_count": 30,
   "id": "85039e0a",
   "metadata": {},
   "outputs": [
    {
     "name": "stdout",
     "output_type": "stream",
     "text": [
      "AC\n",
      "AH\n",
      "AK\n",
      "CA\n",
      "CH\n",
      "CK\n",
      "HA\n",
      "HC\n",
      "HK\n",
      "KA\n",
      "KC\n",
      "KH\n"
     ]
    }
   ],
   "source": [
    "perm = sorted(perm)\n",
    "\n",
    "for i,j in perm:\n",
    "    print(str(i)+str(j))"
   ]
  },
  {
   "cell_type": "code",
   "execution_count": 65,
   "id": "cde9e6b5",
   "metadata": {},
   "outputs": [
    {
     "name": "stdout",
     "output_type": "stream",
     "text": [
      "ABC\n",
      "ABD\n",
      "ACB\n",
      "ACD\n",
      "ADB\n",
      "ADC\n",
      "BAC\n",
      "BAD\n",
      "BCA\n",
      "BCD\n",
      "BDA\n",
      "BDC\n",
      "CAB\n",
      "CAD\n",
      "CBA\n",
      "CBD\n",
      "CDA\n",
      "CDB\n",
      "DAB\n",
      "DAC\n",
      "DBA\n",
      "DBC\n",
      "DCA\n",
      "DCB\n"
     ]
    }
   ],
   "source": [
    "s = 'ABCD'\n",
    "n = 3\n",
    "\n",
    "pmt = list(permutations(s, n))\n",
    "\n",
    "pmt = sorted(pmt)\n",
    "\n",
    "for i in pmt:\n",
    "    print(*i, sep='')"
   ]
  },
  {
   "cell_type": "code",
   "execution_count": null,
   "id": "26e4b07c",
   "metadata": {},
   "outputs": [],
   "source": []
  }
 ],
 "metadata": {
  "kernelspec": {
   "display_name": "Python 3",
   "language": "python",
   "name": "python3"
  },
  "language_info": {
   "codemirror_mode": {
    "name": "ipython",
    "version": 3
   },
   "file_extension": ".py",
   "mimetype": "text/x-python",
   "name": "python",
   "nbconvert_exporter": "python",
   "pygments_lexer": "ipython3",
   "version": "3.7.10"
  }
 },
 "nbformat": 4,
 "nbformat_minor": 5
}
