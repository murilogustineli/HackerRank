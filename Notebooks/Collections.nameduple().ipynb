{
 "cells": [
  {
   "cell_type": "markdown",
   "id": "d8d12f67",
   "metadata": {},
   "source": [
    "# HackerRank\n",
    "### namedtuples()\n",
    "https://www.hackerrank.com/challenges/py-collections-namedtuple/problem\n",
    "\n",
    "- The first line contains an integer N, the total number of students.\n",
    "- The second line contains the names of the columns in any order.\n",
    "- The next N lines contains the marks, IDs, names and class, under their respective column names.\n",
    "\n",
    "Input Format:\n",
    "\n",
    "first line: 5\n",
    "\n",
    "second line:\n",
    "\n",
    "| ID     |    MARKS   |   NAME   |    CLASS |\n",
    "|--------|------------|----------|----------|\n",
    "| 1      |     97     |  Raymond |     7    |\n",
    "| 2      |     50     |  Steven  |     4    |\n",
    "| 3      |     91     |  Adrian  |     9    |\n",
    "| 4      |     72     |  Stewart |     5    |\n",
    "| 5      |     80     |   Peter  |    6     |"
   ]
  },
  {
   "cell_type": "code",
   "execution_count": 1,
   "id": "0376300b",
   "metadata": {},
   "outputs": [],
   "source": [
    "from collections import namedtuple"
   ]
  },
  {
   "cell_type": "code",
   "execution_count": 2,
   "id": "f2b5a1c6",
   "metadata": {},
   "outputs": [
    {
     "name": "stdout",
     "output_type": "stream",
     "text": [
      "['ID', 'MARKS', 'NAME', 'CLASS']\n"
     ]
    }
   ],
   "source": [
    "# Roster input\n",
    "roster = [\n",
    "    '1 97 Raymond 7',\n",
    "    '2 50 Steven 4',\n",
    "    '3 91 Adrian 9',\n",
    "    '4 72 Stewart 5',\n",
    "    '5 80 Peter 6'\n",
    "]\n",
    "\n",
    "# Column names\n",
    "cols = 'ID MARKS NAME CLASS'\n",
    "\n",
    "cols = cols.split()\n",
    "print(cols)"
   ]
  },
  {
   "cell_type": "code",
   "execution_count": 3,
   "id": "2a389dc5",
   "metadata": {},
   "outputs": [
    {
     "name": "stdout",
     "output_type": "stream",
     "text": [
      "77.5\n"
     ]
    }
   ],
   "source": [
    "def get(lst, n):\n",
    "    return [i[n] for i in lst]\n",
    "\n",
    "n = len(cols)\n",
    "studentList = namedtuple('studentList', cols)\n",
    "split = [i.split() for i in roster]\n",
    "field1, field2, field3, field4 = get(split,0), get(split,1), get(split,2), get(split,3)\n",
    "student = studentList(field1, field2, field3, field4)\n",
    "\n",
    "total = 0\n",
    "for i in range(int(n)):\n",
    "    total += int(student.MARKS[i])\n",
    "\n",
    "avg = total/int(n)\n",
    "print(avg)"
   ]
  },
  {
   "cell_type": "code",
   "execution_count": null,
   "id": "b8d39e14",
   "metadata": {},
   "outputs": [],
   "source": []
  },
  {
   "cell_type": "code",
   "execution_count": null,
   "id": "c28782c0",
   "metadata": {},
   "outputs": [],
   "source": []
  }
 ],
 "metadata": {
  "kernelspec": {
   "display_name": "Python 3",
   "language": "python",
   "name": "python3"
  },
  "language_info": {
   "codemirror_mode": {
    "name": "ipython",
    "version": 3
   },
   "file_extension": ".py",
   "mimetype": "text/x-python",
   "name": "python",
   "nbconvert_exporter": "python",
   "pygments_lexer": "ipython3",
   "version": "3.8.8"
  }
 },
 "nbformat": 4,
 "nbformat_minor": 5
}
