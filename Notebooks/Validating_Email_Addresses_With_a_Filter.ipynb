{
 "cells": [
  {
   "cell_type": "markdown",
   "id": "97d606b0-fea8-4f9c-9bdf-867f3698485d",
   "metadata": {},
   "source": [
    "# Hacker Rank\n",
    "## Validating email addresses with a filter\n",
    "https://www.hackerrank.com/challenges/validate-list-of-email-address-with-filter/problem"
   ]
  },
  {
   "cell_type": "code",
   "execution_count": 2,
   "id": "0eefbcb4-7a57-4f1d-91ec-fb56c6a22b93",
   "metadata": {},
   "outputs": [
    {
     "name": "stdout",
     "output_type": "stream",
     "text": [
      "True\n",
      "False\n"
     ]
    }
   ],
   "source": [
    "import re\n",
    "\n",
    "# make a pattern\n",
    "pattern = \"^[A-Za-z0-9_-]*$\"\n",
    "\n",
    "# input\n",
    "string = \"G33ks_F0r_Geeks\"\n",
    "  \n",
    "# convert match object into boolean values\n",
    "state = bool(re.match(pattern, string))\n",
    "print(state)\n",
    "\n",
    "print(bool(re.match(\"^[A-Za-z0-9_-]*$\", 'inv@lidstring')))"
   ]
  },
  {
   "cell_type": "code",
   "execution_count": 41,
   "id": "caa1227a-423b-4477-ba5a-0119991a2316",
   "metadata": {},
   "outputs": [
    {
     "name": "stdout",
     "output_type": "stream",
     "text": [
      "['brian-23@hackerrank.com', 'britts_54@hackerrank.com', 'lara@hackerrank.com']\n"
     ]
    }
   ],
   "source": [
    "import re\n",
    "# list of emails\n",
    "emails = ['lara@hackerrank.com', 'brian-23@hackerrank.com', 'britts_54@hackerrank.com', 'murilogustineli.com', 'harsh@gmail']\n",
    "\n",
    "def fun(s):\n",
    "    pattern = re.compile(\"^[\\\\w-]+@[0-9a-zA-Z]+\\\\.[a-z]{1,3}$\")\n",
    "    return pattern.match(s)\n",
    "\n",
    "def filter_mail(emails):\n",
    "    return list(filter(fun, emails))\n",
    "\n",
    "filtered_emails = filter_mail(emails)\n",
    "filtered_emails.sort()\n",
    "print(filtered_emails)"
   ]
  },
  {
   "cell_type": "code",
   "execution_count": null,
   "id": "7e8f71d1-f9a9-42c2-8a4e-35aaa174838c",
   "metadata": {},
   "outputs": [],
   "source": []
  }
 ],
 "metadata": {
  "kernelspec": {
   "display_name": "Python 3",
   "language": "python",
   "name": "python3"
  },
  "language_info": {
   "codemirror_mode": {
    "name": "ipython",
    "version": 3
   },
   "file_extension": ".py",
   "mimetype": "text/x-python",
   "name": "python",
   "nbconvert_exporter": "python",
   "pygments_lexer": "ipython3",
   "version": "3.8.8"
  }
 },
 "nbformat": 4,
 "nbformat_minor": 5
}
