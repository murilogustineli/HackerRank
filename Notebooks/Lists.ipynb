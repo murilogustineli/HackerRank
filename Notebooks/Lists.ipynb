{
 "cells": [
  {
   "cell_type": "markdown",
   "id": "d41ab21d",
   "metadata": {},
   "source": [
    "# HackerRank\n",
    "### Lists\n",
    "https://www.hackerrank.com/challenges/python-lists/problem\n",
    "\n",
    "Consider a list (list = [ ]). You can perform the following commands:\n",
    "\n",
    "1. insert i e: Insert integer e at position i.\n",
    "2. print: Print the list.\n",
    "3. remove e: Delete the first occurrence of integer e.\n",
    "4. append e: Insert integer e at the end of the list.\n",
    "5. sort: Sort the list.\n",
    "6. pop: Pop the last element from the list.\n",
    "7. reverse: Reverse the list.\n",
    "\n",
    "Initialize your list and read in the value of n followed by n lines of commands where each command will be of the 7 types listed above. Iterate through each command in order and perform the corresponding operation on your list.\n",
    "\n",
    "Sample input:\n",
    "- N = 4\n",
    "- insert 1\n",
    "- insert 2\n",
    "- insert 3 1\n",
    "- print\n",
    "\n",
    "Sample output:\n",
    "- [1, 3, 2]"
   ]
  },
  {
   "cell_type": "code",
   "execution_count": 28,
   "id": "6df6fefb",
   "metadata": {},
   "outputs": [],
   "source": [
    "s_input = [\n",
    "    'insert 0 5',\n",
    "    'insert 1 10',\n",
    "    'insert 0 6',\n",
    "    'print',\n",
    "    'remove 6',\n",
    "    'append 9',\n",
    "    'append 1',\n",
    "    'sort',\n",
    "    'print',\n",
    "    'pop',\n",
    "    'reverse',\n",
    "    'print'\n",
    "]\n",
    "\n",
    "n = 12"
   ]
  },
  {
   "cell_type": "code",
   "execution_count": 29,
   "id": "6242b80a",
   "metadata": {},
   "outputs": [
    {
     "name": "stdout",
     "output_type": "stream",
     "text": [
      "[6, 5, 10]\n",
      "[1, 5, 9, 10]\n",
      "[9, 5, 1]\n"
     ]
    }
   ],
   "source": [
    "commands = [i.split() for i in s_input]\n",
    "lst = []\n",
    "\n",
    "for i in commands:\n",
    "    if i[0] == 'insert' and len(i) == 2:\n",
    "        lst.append(int(i[1]))\n",
    "    elif i[0] == 'insert' and len(i) == 3:\n",
    "        lst.insert(int(i[1]), int(i[2]))\n",
    "    elif i[0] == 'append':\n",
    "        lst.append(int(i[1]))\n",
    "    elif i[0] == 'remove':\n",
    "        lst.remove(int(i[1]))\n",
    "    elif i[0] == 'sort':\n",
    "        lst.sort()\n",
    "    elif i[0] == 'pop':\n",
    "        lst.pop()\n",
    "    elif i[0] == 'reverse':\n",
    "        lst.reverse()\n",
    "    elif i[0] == 'print':\n",
    "        print(lst)"
   ]
  },
  {
   "cell_type": "markdown",
   "id": "6a249536",
   "metadata": {},
   "source": [
    "### Another way to solve the problem"
   ]
  },
  {
   "cell_type": "code",
   "execution_count": 47,
   "id": "5664c99a",
   "metadata": {},
   "outputs": [
    {
     "name": "stdout",
     "output_type": "stream",
     "text": [
      "[6, 5, 10]\n",
      "[1, 5, 9, 10]\n",
      "[9, 5, 1]\n"
     ]
    }
   ],
   "source": [
    "n = 12\n",
    "s = [i.split() for i in s_input]\n",
    "lst = []\n",
    "\n",
    "for i in s:\n",
    "    cmd = i[0]\n",
    "    args = i[1:]\n",
    "    if cmd != \"print\":\n",
    "        cmd += \"(\" + \",\".join(args) +\")\"\n",
    "        eval(\"lst.\" + cmd)\n",
    "    else:\n",
    "        print(lst)"
   ]
  },
  {
   "cell_type": "code",
   "execution_count": null,
   "id": "1d44a371",
   "metadata": {},
   "outputs": [],
   "source": []
  }
 ],
 "metadata": {
  "kernelspec": {
   "display_name": "Python 3",
   "language": "python",
   "name": "python3"
  },
  "language_info": {
   "codemirror_mode": {
    "name": "ipython",
    "version": 3
   },
   "file_extension": ".py",
   "mimetype": "text/x-python",
   "name": "python",
   "nbconvert_exporter": "python",
   "pygments_lexer": "ipython3",
   "version": "3.8.8"
  }
 },
 "nbformat": 4,
 "nbformat_minor": 5
}
