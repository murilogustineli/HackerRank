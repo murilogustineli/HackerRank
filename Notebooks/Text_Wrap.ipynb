{
 "cells": [
  {
   "cell_type": "markdown",
   "id": "b822aeae",
   "metadata": {},
   "source": [
    "# HackerRank\n",
    "### Text Wrap\n",
    "https://www.hackerrank.com/challenges/text-wrap/problem\n",
    "\n",
    "`s = 'ABCDEFGHIJKLIMNOQRSTUVWXYZ'\n",
    "w = 4`\n",
    "\n",
    "Output:\n",
    "<br>`ABCD\n",
    "EFGH\n",
    "IJKL\n",
    "IMNO\n",
    "QRST\n",
    "UVWX\n",
    "YZ`"
   ]
  },
  {
   "cell_type": "code",
   "execution_count": 1,
   "id": "bf31978c",
   "metadata": {},
   "outputs": [],
   "source": [
    "s = 'ABCDEFGHIJKLIMNOQRSTUVWXYZ'\n",
    "w = 4"
   ]
  },
  {
   "cell_type": "code",
   "execution_count": 2,
   "id": "f8c61ea1",
   "metadata": {},
   "outputs": [
    {
     "name": "stdout",
     "output_type": "stream",
     "text": [
      "ABCD\n",
      "EFGH\n",
      "IJKL\n",
      "IMNO\n",
      "QRST\n",
      "UVWX\n",
      "YZ\n"
     ]
    }
   ],
   "source": [
    "import textwrap\n",
    "\n",
    "lst = textwrap.wrap(s, w)\n",
    "for i in lst:\n",
    "    print(i)"
   ]
  },
  {
   "cell_type": "code",
   "execution_count": 3,
   "id": "a51bc536",
   "metadata": {},
   "outputs": [
    {
     "name": "stdout",
     "output_type": "stream",
     "text": [
      "ABCD\n",
      "EFGH\n",
      "IJKL\n",
      "IMNO\n",
      "QRST\n",
      "UVWX\n",
      "YZ\n"
     ]
    }
   ],
   "source": [
    "lst = textwrap.wrap(s, w)\n",
    "print(*lst, sep='\\n')"
   ]
  },
  {
   "cell_type": "code",
   "execution_count": 4,
   "id": "847ad5b3",
   "metadata": {},
   "outputs": [
    {
     "name": "stdout",
     "output_type": "stream",
     "text": [
      "ABCD\n",
      "EFGH\n",
      "IJKL\n",
      "IMNO\n",
      "QRST\n",
      "UVWX\n",
      "YZ\n"
     ]
    }
   ],
   "source": [
    "def wrap(string, width):\n",
    "    for i in range(0, len(string), width):\n",
    "        print(string[i:i+width])\n",
    "        \n",
    "wrap(s, w)"
   ]
  },
  {
   "cell_type": "code",
   "execution_count": null,
   "id": "2e6ecc12",
   "metadata": {},
   "outputs": [],
   "source": []
  }
 ],
 "metadata": {
  "kernelspec": {
   "display_name": "Python 3",
   "language": "python",
   "name": "python3"
  },
  "language_info": {
   "codemirror_mode": {
    "name": "ipython",
    "version": 3
   },
   "file_extension": ".py",
   "mimetype": "text/x-python",
   "name": "python",
   "nbconvert_exporter": "python",
   "pygments_lexer": "ipython3",
   "version": "3.8.8"
  }
 },
 "nbformat": 4,
 "nbformat_minor": 5
}
