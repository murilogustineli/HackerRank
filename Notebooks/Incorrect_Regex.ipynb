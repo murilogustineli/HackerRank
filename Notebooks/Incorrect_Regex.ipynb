{
 "cells": [
  {
   "cell_type": "markdown",
   "id": "f194b30f-3755-42d0-addf-29f0235e40fc",
   "metadata": {},
   "source": [
    "# HackerRank\n",
    "## Incorrect Regex\n",
    "https://www.hackerrank.com/challenges/incorrect-regex/problem"
   ]
  },
  {
   "cell_type": "code",
   "execution_count": 1,
   "id": "4543c596-912f-4070-b963-c6469d245aa4",
   "metadata": {},
   "outputs": [],
   "source": [
    "t = 2\n",
    "regex = '.*\\+ .*+'\n",
    "regex = regex.split(' ')"
   ]
  },
  {
   "cell_type": "code",
   "execution_count": 2,
   "id": "fb48c2c8-0100-41ab-9cc3-3a745616a08e",
   "metadata": {},
   "outputs": [
    {
     "name": "stdout",
     "output_type": "stream",
     "text": [
      "True\n",
      "False\n"
     ]
    }
   ],
   "source": [
    "import re\n",
    "\n",
    "for i in range(t):\n",
    "    is_valid = True\n",
    "    try:\n",
    "        re.compile(regex[i])\n",
    "        is_valid = True\n",
    "    except re.error:\n",
    "        is_valid = False\n",
    "    print(is_valid)"
   ]
  }
 ],
 "metadata": {
  "kernelspec": {
   "display_name": "Python 3",
   "language": "python",
   "name": "python3"
  },
  "language_info": {
   "codemirror_mode": {
    "name": "ipython",
    "version": 3
   },
   "file_extension": ".py",
   "mimetype": "text/x-python",
   "name": "python",
   "nbconvert_exporter": "python",
   "pygments_lexer": "ipython3",
   "version": "3.8.8"
  }
 },
 "nbformat": 4,
 "nbformat_minor": 5
}
