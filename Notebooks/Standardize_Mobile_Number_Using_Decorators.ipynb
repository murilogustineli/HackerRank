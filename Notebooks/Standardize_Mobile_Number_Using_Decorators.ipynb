{
 "cells": [
  {
   "cell_type": "markdown",
   "id": "5c9943fe",
   "metadata": {},
   "source": [
    "# HackerRank\n",
    "## Standardize Mobile Number Using Decorators\n",
    "https://www.hackerrank.com/challenges/standardize-mobile-number-using-decorators/problem"
   ]
  },
  {
   "cell_type": "code",
   "execution_count": 1,
   "id": "98ecaef3",
   "metadata": {},
   "outputs": [],
   "source": [
    "n = '3'\n",
    "nums = ['07895462130', '919875641230', '9195969878']"
   ]
  },
  {
   "cell_type": "code",
   "execution_count": 2,
   "id": "b798d732",
   "metadata": {},
   "outputs": [
    {
     "name": "stdout",
     "output_type": "stream",
     "text": [
      "07895462130\n",
      "919875641230\n",
      "9195969878\n"
     ]
    }
   ],
   "source": [
    "prefix = ('+91', '91', '0')\n",
    "\n",
    "for i in range(int(n)):\n",
    "    if nums[i].startswith(prefix):\n",
    "        print(nums[i])"
   ]
  },
  {
   "cell_type": "code",
   "execution_count": 3,
   "id": "7c4f2ede",
   "metadata": {},
   "outputs": [
    {
     "name": "stdout",
     "output_type": "stream",
     "text": [
      "+91 78954 62130\n",
      "+91 98756 41230\n",
      "+91 91959 69878\n"
     ]
    }
   ],
   "source": [
    "for i in range(int(n)):\n",
    "    if nums[i].startswith(prefix):\n",
    "        print('+91 ' + nums[i][-10:-5] + \" \" + nums[i][-5:])"
   ]
  },
  {
   "cell_type": "code",
   "execution_count": 4,
   "id": "da5b2bb1",
   "metadata": {},
   "outputs": [
    {
     "name": "stdout",
     "output_type": "stream",
     "text": [
      "+91 78954 62130\n",
      "+91 91959 69878\n",
      "+91 98756 41230\n"
     ]
    }
   ],
   "source": [
    "def wrapper(f):\n",
    "    def fun(l):\n",
    "        # complete the function\n",
    "        f('+91 {} {}'.format(n[-10:-5], n[-5:]) for n in l)\n",
    "    return fun\n",
    "\n",
    "@wrapper\n",
    "def sort_phone(l):\n",
    "    print(*sorted(l), sep='\\n')\n",
    "\n",
    "if __name__ == '__main__':\n",
    "    l = [i for i in nums]\n",
    "    sort_phone(l)"
   ]
  }
 ],
 "metadata": {
  "kernelspec": {
   "display_name": "Python 3",
   "language": "python",
   "name": "python3"
  },
  "language_info": {
   "codemirror_mode": {
    "name": "ipython",
    "version": 3
   },
   "file_extension": ".py",
   "mimetype": "text/x-python",
   "name": "python",
   "nbconvert_exporter": "python",
   "pygments_lexer": "ipython3",
   "version": "3.7.10"
  }
 },
 "nbformat": 4,
 "nbformat_minor": 5
}
