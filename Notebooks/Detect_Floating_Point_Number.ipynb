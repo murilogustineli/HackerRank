{
 "cells": [
  {
   "cell_type": "markdown",
   "id": "333e8146",
   "metadata": {},
   "source": [
    "# HackerRank\n",
    "### Detect Floating Point Number\n",
    "https://www.hackerrank.com/challenges/introduction-to-regex/problem"
   ]
  },
  {
   "cell_type": "code",
   "execution_count": 1,
   "id": "b63c4da2",
   "metadata": {},
   "outputs": [
    {
     "name": "stdout",
     "output_type": "stream",
     "text": [
      "True\n"
     ]
    }
   ],
   "source": [
    "n = 4.0\n",
    "print(isinstance(n, float))"
   ]
  },
  {
   "cell_type": "code",
   "execution_count": 2,
   "id": "e5b192a8",
   "metadata": {},
   "outputs": [],
   "source": [
    "sample = [\n",
    "    '4.0O0',\n",
    "    '-1.00',\n",
    "    '+4.54',\n",
    "    'SomeRandomStuff'\n",
    "]"
   ]
  },
  {
   "cell_type": "code",
   "execution_count": 3,
   "id": "67b5fb6c",
   "metadata": {},
   "outputs": [
    {
     "name": "stdout",
     "output_type": "stream",
     "text": [
      "False\n",
      "True\n",
      "True\n",
      "False\n"
     ]
    }
   ],
   "source": [
    "for i in sample:\n",
    "    try:\n",
    "        int(i.split('.')[1]) # for decimal value\n",
    "        if float(i):\n",
    "            print('True')\n",
    "    except:\n",
    "        print('False')"
   ]
  },
  {
   "cell_type": "code",
   "execution_count": 4,
   "id": "9f4501f9",
   "metadata": {},
   "outputs": [
    {
     "name": "stdout",
     "output_type": "stream",
     "text": [
      "False\n",
      "True\n",
      "True\n",
      "False\n"
     ]
    }
   ],
   "source": [
    "# Using regex\n",
    "import re\n",
    "\n",
    "for i in sample:\n",
    "    print(bool(re.match(r'^[-+]?[0-9]*\\.[0-9]+$', i)))"
   ]
  },
  {
   "cell_type": "code",
   "execution_count": null,
   "id": "68a017d7",
   "metadata": {},
   "outputs": [],
   "source": []
  }
 ],
 "metadata": {
  "kernelspec": {
   "display_name": "Python 3",
   "language": "python",
   "name": "python3"
  },
  "language_info": {
   "codemirror_mode": {
    "name": "ipython",
    "version": 3
   },
   "file_extension": ".py",
   "mimetype": "text/x-python",
   "name": "python",
   "nbconvert_exporter": "python",
   "pygments_lexer": "ipython3",
   "version": "3.8.8"
  }
 },
 "nbformat": 4,
 "nbformat_minor": 5
}
