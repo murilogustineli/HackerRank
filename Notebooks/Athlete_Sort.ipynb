{
 "cells": [
  {
   "cell_type": "markdown",
   "id": "d12a43c7-1572-47ab-9ae6-2c392f48d347",
   "metadata": {},
   "source": [
    "# Hacker Rank\n",
    "## Athlete Sort\n",
    "https://www.hackerrank.com/challenges/python-sort-sort/problem\n",
    "\n",
    "You are given a spreadsheet that contains a list of ***N*** athletes and their details (such as age, height, weight and so on). You are required to sort the data based on the ***Kth*** attribute and print the final resulting table.\n",
    "\n",
    "Note that ***K*** is indexed from ***0*** to ***M-1***, where M is the number of attributes.\n",
    "\n",
    "__Note:__ If two attributes are the same for different rows, for example, if two atheletes are of the same age, print the row that appeared first in the input.\n",
    "\n",
    "**Input Format**\n",
    "<br>The first line contains ___N___ and ***M*** separated by a space.\n",
    "<br>The next  lines each contain ***M*** elements.\n",
    "<br>The last line contains ***K***.\n",
    "\n",
    "**Output Format**\n",
    "<br>Print the  lines of the sorted table. Each line should contain the space separated elements. Check the sample below for clarity."
   ]
  },
  {
   "cell_type": "code",
   "execution_count": 1,
   "id": "8696e31a-c079-4fd0-8735-87d899a927a4",
   "metadata": {},
   "outputs": [],
   "source": [
    "nm = '5 3'\n",
    "inp = '10 2 5, 7 1 0, 9 9 9, 1 23 12, 6 5 9'\n",
    "k = '1'"
   ]
  },
  {
   "cell_type": "code",
   "execution_count": 2,
   "id": "1035c6e9-3b9c-41bf-93ac-cd1efaf98b84",
   "metadata": {},
   "outputs": [
    {
     "name": "stdout",
     "output_type": "stream",
     "text": [
      "5 3\n",
      "[[10, 2, 5], [7, 1, 0], [9, 9, 9], [1, 23, 12], [6, 5, 9]]\n",
      "1\n"
     ]
    }
   ],
   "source": [
    "# Assigning values to variables\n",
    "n, m = map(int, nm.split(' '))\n",
    "arr_str = inp.split(', ')\n",
    "k = int(k)\n",
    "\n",
    "# For loop to append list of values in array\n",
    "arr = []\n",
    "for i in arr_str:\n",
    "    arr.append(list(map(int, i.split(' '))))\n",
    "    \n",
    "# Print results\n",
    "print(n, m)\n",
    "print(arr)\n",
    "print(k)"
   ]
  },
  {
   "cell_type": "code",
   "execution_count": 3,
   "id": "53c145d5-a75c-46bf-bc62-13b890f4b2e5",
   "metadata": {},
   "outputs": [
    {
     "name": "stdout",
     "output_type": "stream",
     "text": [
      "2\n",
      "1\n",
      "9\n",
      "23\n"
     ]
    }
   ],
   "source": [
    "sort = []\n",
    "for i in range(n-1):\n",
    "    print(arr[i][k])"
   ]
  },
  {
   "cell_type": "code",
   "execution_count": 4,
   "id": "334ffeab-845b-46ce-b2d7-fc62b56420d8",
   "metadata": {},
   "outputs": [
    {
     "name": "stdout",
     "output_type": "stream",
     "text": [
      "Sorted list: [(4, 1), (2, 2), (1, 3), (3, 4)]\n"
     ]
    }
   ],
   "source": [
    "# take the second element for sort\n",
    "def take_second(elem):\n",
    "    return elem[1]\n",
    "\n",
    "# random list\n",
    "random = [(2, 2), (3, 4), (4, 1), (1, 3)]\n",
    "\n",
    "# sort list with key\n",
    "sorted_list = sorted(random, key=take_second)\n",
    "\n",
    "# print list\n",
    "print('Sorted list:', sorted_list)"
   ]
  },
  {
   "cell_type": "code",
   "execution_count": 5,
   "id": "6e6442cf-77f3-4b76-9201-445aa3f25b46",
   "metadata": {},
   "outputs": [
    {
     "name": "stdout",
     "output_type": "stream",
     "text": [
      "7 1 0\n",
      "10 2 5\n",
      "6 5 9\n",
      "9 9 9\n",
      "1 23 12\n"
     ]
    }
   ],
   "source": [
    "# take the second element for sort\n",
    "def take_elem(elem):\n",
    "    return elem[k]\n",
    "\n",
    "# array list\n",
    "arr = [[10, 2, 5], [7, 1, 0], [9, 9, 9], [1, 23, 12], [6, 5, 9]]\n",
    "\n",
    "# sort list with key\n",
    "sorted_list = sorted(arr, key=take_elem)\n",
    "\n",
    "for i in sorted_list:\n",
    "    print(*i)"
   ]
  }
 ],
 "metadata": {
  "kernelspec": {
   "display_name": "Python 3",
   "language": "python",
   "name": "python3"
  },
  "language_info": {
   "codemirror_mode": {
    "name": "ipython",
    "version": 3
   },
   "file_extension": ".py",
   "mimetype": "text/x-python",
   "name": "python",
   "nbconvert_exporter": "python",
   "pygments_lexer": "ipython3",
   "version": "3.8.8"
  }
 },
 "nbformat": 4,
 "nbformat_minor": 5
}
