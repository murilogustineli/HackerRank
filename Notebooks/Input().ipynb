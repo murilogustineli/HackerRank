{
 "cells": [
  {
   "cell_type": "markdown",
   "id": "21c569d4-75e0-40f9-83a6-9680bd301068",
   "metadata": {},
   "source": [
    "# Hacker Rank\n",
    "\n",
    "## Input()\n",
    "\n",
    "https://www.hackerrank.com/challenges/input/problem"
   ]
  },
  {
   "cell_type": "code",
   "execution_count": 1,
   "id": "cfe52fa8-88e9-4f2b-a66c-7a889302d90e",
   "metadata": {},
   "outputs": [
    {
     "name": "stdout",
     "output_type": "stream",
     "text": [
      "True\n"
     ]
    }
   ],
   "source": [
    "inp = '1 4'\n",
    "P = 'x**3 + x**2 + x + 1'\n",
    "\n",
    "# Assign values to x and y\n",
    "x, y = map(int, (inp.split(' ')))\n",
    "print(eval(P) == y)"
   ]
  }
 ],
 "metadata": {
  "kernelspec": {
   "display_name": "Python 3",
   "language": "python",
   "name": "python3"
  },
  "language_info": {
   "codemirror_mode": {
    "name": "ipython",
    "version": 3
   },
   "file_extension": ".py",
   "mimetype": "text/x-python",
   "name": "python",
   "nbconvert_exporter": "python",
   "pygments_lexer": "ipython3",
   "version": "3.8.8"
  }
 },
 "nbformat": 4,
 "nbformat_minor": 5
}
