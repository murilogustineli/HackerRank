{
 "cells": [
  {
   "cell_type": "markdown",
   "id": "6f0c0176",
   "metadata": {},
   "source": [
    "# HackerRank\n",
    "### Tuples\n",
    "https://www.hackerrank.com/challenges/python-tuples/problem\n",
    "\n",
    "**Task**\n",
    "Given an integer, _**n**_, and _**n**_ space-separated integers as input, create a tuple, _**t**_, of those  integers. Then compute and print the result of _**hash(t)**_.\n",
    "\n",
    "Note: _**hash()**_ is one of the functions in the _**builtins**_ module, so it need not be imported.\n",
    "\n",
    "**Input Format**\n",
    "<br>The first line contains an integer, _**n**_, denoting the number of elements in the tuple.\n",
    "<br>The second line contains _**n**_ space-separated integers describing the elements in tuple .\n",
    "\n",
    "**Output Format**\n",
    "<br>Print the result of _**hash(t)**_.\n",
    "\n",
    "**Sample Input**\n",
    "<br>2\n",
    "<br>1 2\n",
    "\n",
    "**Sample Output**\n",
    "<br>3713081631934410656"
   ]
  },
  {
   "cell_type": "code",
   "execution_count": 7,
   "id": "5af43b60",
   "metadata": {},
   "outputs": [
    {
     "name": "stdout",
     "output_type": "stream",
     "text": [
      "('1', '2')\n"
     ]
    },
    {
     "data": {
      "text/plain": [
       "-8742607416984124062"
      ]
     },
     "execution_count": 7,
     "metadata": {},
     "output_type": "execute_result"
    }
   ],
   "source": [
    "n = 2\n",
    "b = '1 2'\n",
    "t = b.split()\n",
    "t = tuple(b.split())\n",
    "print(t)\n",
    "\n",
    "hash(t)"
   ]
  },
  {
   "cell_type": "code",
   "execution_count": null,
   "id": "6d8d0c09",
   "metadata": {},
   "outputs": [],
   "source": []
  }
 ],
 "metadata": {
  "kernelspec": {
   "display_name": "Python 3",
   "language": "python",
   "name": "python3"
  },
  "language_info": {
   "codemirror_mode": {
    "name": "ipython",
    "version": 3
   },
   "file_extension": ".py",
   "mimetype": "text/x-python",
   "name": "python",
   "nbconvert_exporter": "python",
   "pygments_lexer": "ipython3",
   "version": "3.8.8"
  }
 },
 "nbformat": 4,
 "nbformat_minor": 5
}
