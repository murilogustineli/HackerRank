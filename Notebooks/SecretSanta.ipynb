{
 "cells": [
  {
   "cell_type": "markdown",
   "id": "6f5a3ee7-e82c-4722-91e8-b86390d45e58",
   "metadata": {},
   "source": [
    "# Secret Santa application"
   ]
  },
  {
   "cell_type": "code",
   "execution_count": 1,
   "id": "1f48f718-0e86-4eb7-a140-3f399df82870",
   "metadata": {},
   "outputs": [],
   "source": [
    "import random\n",
    "\n",
    "def secret_santa(names):\n",
    "    # Duplicate list of names\n",
    "    selection = [i for i in names]\n",
    "    # Secret Santa dictionary\n",
    "    santa = dict()\n",
    "    \n",
    "    # for loop to choose secret santa\n",
    "    for i in names:\n",
    "        choice = random.choice(selection)\n",
    "        while choice == i:\n",
    "            choice = random.choice(selection)\n",
    "\n",
    "        # Assigning random name to secret santa participant\n",
    "        santa[i] = choice\n",
    "        # Getting the choice index of the dupList\n",
    "        ind = selection.index(choice)\n",
    "        # Removing that participant from the list\n",
    "        selection.pop(ind)\n",
    "\n",
    "    print(santa)"
   ]
  },
  {
   "cell_type": "code",
   "execution_count": 2,
   "id": "19cb1af6-a82c-492d-b92a-50ead2eafe3e",
   "metadata": {},
   "outputs": [
    {
     "name": "stdout",
     "output_type": "stream",
     "text": [
      "{'Murilo': 'Noah', 'Taylor': 'Murilo', 'Marissa': 'Travis', 'Travis': 'Taylor', 'Ashwin': 'Marissa', 'Noah': 'Ashwin'}\n"
     ]
    }
   ],
   "source": [
    "# List of names participating on secret santa\n",
    "nameList = ['Murilo', 'Taylor', 'Marissa', 'Travis', 'Ashwin', 'Noah']\n",
    "\n",
    "secret_santa(nameList)"
   ]
  },
  {
   "cell_type": "code",
   "execution_count": null,
   "id": "32eb00ed-1826-4789-8c12-e72301b7b7f3",
   "metadata": {},
   "outputs": [],
   "source": []
  }
 ],
 "metadata": {
  "kernelspec": {
   "display_name": "Python 3",
   "language": "python",
   "name": "python3"
  },
  "language_info": {
   "codemirror_mode": {
    "name": "ipython",
    "version": 3
   },
   "file_extension": ".py",
   "mimetype": "text/x-python",
   "name": "python",
   "nbconvert_exporter": "python",
   "pygments_lexer": "ipython3",
   "version": "3.8.8"
  }
 },
 "nbformat": 4,
 "nbformat_minor": 5
}
