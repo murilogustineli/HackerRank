{
 "cells": [
  {
   "cell_type": "markdown",
   "id": "303b6030-53ab-42e5-9dcc-07aba9da932c",
   "metadata": {},
   "source": [
    "# Hacker Rank\n",
    "\n",
    "## The Minion Game\n",
    "\n",
    "https://www.hackerrank.com/challenges/the-minion-game/problem"
   ]
  },
  {
   "cell_type": "code",
   "execution_count": 1,
   "id": "bbe6d187-68ec-431e-901c-d5c55c04d4a1",
   "metadata": {},
   "outputs": [
    {
     "name": "stdout",
     "output_type": "stream",
     "text": [
      "The original string is : Geeks\n",
      "All substrings of string are : ['G', 'Ge', 'Gee', 'Geek', 'Geeks', 'e', 'ee', 'eek', 'eeks', 'e', 'ek', 'eks', 'k', 'ks', 's']\n"
     ]
    }
   ],
   "source": [
    "# Python3 code to demonstrate working of\n",
    "# Get all substrings of string\n",
    "# Using list comprehension + string slicing\n",
    "  \n",
    "# initializing string \n",
    "test_str = \"Geeks\"\n",
    "  \n",
    "# printing original string \n",
    "print(\"The original string is : \" + str(test_str))\n",
    "  \n",
    "# Get all substrings of string\n",
    "# Using list comprehension + string slicing\n",
    "res = [test_str[i: j] for i in range(len(test_str)) \n",
    "       for j in range(i + 1, len(test_str) + 1)]\n",
    "  \n",
    "# printing result \n",
    "print(\"All substrings of string are : \" + str(res))"
   ]
  },
  {
   "cell_type": "code",
   "execution_count": 2,
   "id": "518f70c1-04fd-4823-956d-d096b3994c10",
   "metadata": {},
   "outputs": [
    {
     "name": "stdout",
     "output_type": "stream",
     "text": [
      "Stuart 12\n"
     ]
    }
   ],
   "source": [
    "s = 'BANANA'\n",
    "\n",
    "vowels = 'AEIOU'\n",
    "\n",
    "kevsc = 0\n",
    "stusc = 0\n",
    "for i in range(len(s)):\n",
    "    if s[i] in vowels:\n",
    "        kevsc += (len(s)-i)\n",
    "    else:\n",
    "        stusc += (len(s)-i)\n",
    "\n",
    "if kevsc > stusc:\n",
    "    print(\"Kevin\", kevsc)\n",
    "elif kevsc < stusc:\n",
    "    print(\"Stuart\", stusc)\n",
    "else:\n",
    "    print(\"Draw\")"
   ]
  },
  {
   "cell_type": "code",
   "execution_count": 3,
   "id": "9125ebe3-4559-4e28-9db4-ad22cc436ce7",
   "metadata": {},
   "outputs": [
    {
     "name": "stdout",
     "output_type": "stream",
     "text": [
      "Stuart 12\n"
     ]
    }
   ],
   "source": [
    "from itertools import *\n",
    "from collections import *\n",
    "\n",
    "s = 'BANANA'\n",
    "vowel = 'aeiou'\n",
    "\n",
    "result = []\n",
    "kevin = [] # words starting with vowels\n",
    "stuart = [] # words starting with consonants\n",
    "s = s.lower()\n",
    "\n",
    "for i in range(len(s)):\n",
    "    for j in range(i + 1, len(s) +1):\n",
    "        # print(s[i:j])\n",
    "        result.append(s[i:j])\n",
    "    \n",
    "for i in result:\n",
    "    if i[0] in vowel:\n",
    "        kevin.append(i)\n",
    "    else:\n",
    "        stuart.append(i)\n",
    "\n",
    "k_count = Counter(kevin)\n",
    "s_count = Counter(stuart)\n",
    "\n",
    "k_counter = 0\n",
    "s_counter = 0\n",
    "\n",
    "for k in k_count:\n",
    "    k_counter += k_count[k]\n",
    "    \n",
    "for s in s_count:\n",
    "    s_counter += s_count[s]\n",
    "\n",
    "if s_counter > k_counter:\n",
    "    print('Stuart', s_counter)\n",
    "elif k_counter > s_counter:\n",
    "    print('Kevin', k_counter)\n",
    "else:\n",
    "    print('Draw')"
   ]
  },
  {
   "cell_type": "code",
   "execution_count": null,
   "id": "34158578-02a0-4f0a-82ac-0736c9e85eeb",
   "metadata": {},
   "outputs": [],
   "source": []
  }
 ],
 "metadata": {
  "kernelspec": {
   "display_name": "Python 3",
   "language": "python",
   "name": "python3"
  },
  "language_info": {
   "codemirror_mode": {
    "name": "ipython",
    "version": 3
   },
   "file_extension": ".py",
   "mimetype": "text/x-python",
   "name": "python",
   "nbconvert_exporter": "python",
   "pygments_lexer": "ipython3",
   "version": "3.8.8"
  }
 },
 "nbformat": 4,
 "nbformat_minor": 5
}
