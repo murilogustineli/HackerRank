{
 "cells": [
  {
   "cell_type": "markdown",
   "id": "7b7785f8-661d-4e55-8f4a-03743a7d1c41",
   "metadata": {},
   "source": [
    "# HackerRank\n",
    "## DefaultDict Tutorial\n",
    "https://www.hackerrank.com/challenges/defaultdict-tutorial/problem\n"
   ]
  },
  {
   "cell_type": "code",
   "execution_count": 1,
   "id": "6f8145ae-3771-4322-b3fc-a70d5fa0d842",
   "metadata": {},
   "outputs": [],
   "source": [
    "n, m = 5, 2\n",
    "j = ['a', 'a', 'b', 'a', 'b','a', 'b']"
   ]
  },
  {
   "cell_type": "code",
   "execution_count": 2,
   "id": "75749c87-8877-47d7-b53d-aaadcdf7d090",
   "metadata": {},
   "outputs": [
    {
     "name": "stdout",
     "output_type": "stream",
     "text": [
      "['a', 'a', 'b', 'a', 'b']\n",
      "['a', 'b']\n"
     ]
    }
   ],
   "source": [
    "a, b = list(), list()\n",
    "\n",
    "for i in range(n + m):\n",
    "    if i <= n-1:\n",
    "        a.append(j[i])\n",
    "    else:\n",
    "        b.append(j[i])\n",
    "        \n",
    "print(a)\n",
    "print(b)"
   ]
  },
  {
   "cell_type": "code",
   "execution_count": 3,
   "id": "fe9fec0a-196f-4adf-bef1-e0816f312325",
   "metadata": {},
   "outputs": [
    {
     "name": "stdout",
     "output_type": "stream",
     "text": [
      "1 2 4\n",
      "3 5\n"
     ]
    }
   ],
   "source": [
    "from collections import defaultdict\n",
    "d = defaultdict(list)\n",
    "lst = []\n",
    "\n",
    "# Create default dictionary\n",
    "for i,j in enumerate(a):\n",
    "    d[j].append(i+1)\n",
    "    \n",
    "# Select individual words in dictionary\n",
    "for i,j in enumerate(b):\n",
    "    lst.append(j)\n",
    "\n",
    "# Print index of words\n",
    "for i in lst:\n",
    "    if i in d:\n",
    "        print(\" \".join(map(str, d[i])))\n",
    "    else:\n",
    "        print(-1)"
   ]
  }
 ],
 "metadata": {
  "kernelspec": {
   "display_name": "Python 3",
   "language": "python",
   "name": "python3"
  },
  "language_info": {
   "codemirror_mode": {
    "name": "ipython",
    "version": 3
   },
   "file_extension": ".py",
   "mimetype": "text/x-python",
   "name": "python",
   "nbconvert_exporter": "python",
   "pygments_lexer": "ipython3",
   "version": "3.8.8"
  }
 },
 "nbformat": 4,
 "nbformat_minor": 5
}
