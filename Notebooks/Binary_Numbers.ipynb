{
 "cells": [
  {
   "cell_type": "markdown",
   "id": "02f62330",
   "metadata": {},
   "source": [
    "# HackerRank\n",
    "## Binary Numbers\n",
    "https://www.hackerrank.com/challenges/30-binary-numbers/problem"
   ]
  },
  {
   "cell_type": "code",
   "execution_count": 1,
   "id": "c8cbf3ad",
   "metadata": {},
   "outputs": [],
   "source": [
    "n = 5\n",
    "\n",
    "# Function to convert integer into binary\n",
    "def convert_binary(n):\n",
    "    num = []\n",
    "    integer = None\n",
    "    \n",
    "    while n>0:\n",
    "        remainder = n%2\n",
    "        n = n//2\n",
    "        num.append(remainder)\n",
    "        \n",
    "    num = num[::-1]\n",
    "    \n",
    "    integer = map(str, num)\n",
    "    integer = ''.join(integer)\n",
    "    integer = int(integer)\n",
    "    \n",
    "    return num #, integer\n",
    "\n",
    "# Function to compute the maximum number of consecutive 1s in binary\n",
    "def compute_consecutive(num):\n",
    "    cpt=0\n",
    "    compte=[]\n",
    "    for i in num:\n",
    "        if i==1:\n",
    "            cpt += 1\n",
    "            compte.append(cpt)\n",
    "        else:\n",
    "            cpt=0\n",
    "    compte.append(cpt)\n",
    "    return max(compte)"
   ]
  },
  {
   "cell_type": "code",
   "execution_count": 2,
   "id": "69731e32",
   "metadata": {},
   "outputs": [
    {
     "name": "stdout",
     "output_type": "stream",
     "text": [
      "[1, 0, 1] <class 'list'>\n"
     ]
    }
   ],
   "source": [
    "binary = convert_binary(n)\n",
    "print(binary, type(binary))"
   ]
  },
  {
   "cell_type": "code",
   "execution_count": 3,
   "id": "2dac7645",
   "metadata": {},
   "outputs": [
    {
     "data": {
      "text/plain": [
       "[1, 1, 0, 1]"
      ]
     },
     "execution_count": 3,
     "metadata": {},
     "output_type": "execute_result"
    }
   ],
   "source": [
    "convert_binary(13)"
   ]
  },
  {
   "cell_type": "code",
   "execution_count": 4,
   "id": "4a2eea73",
   "metadata": {},
   "outputs": [
    {
     "name": "stdout",
     "output_type": "stream",
     "text": [
      "[1, 1, 0, 1] 2\n"
     ]
    }
   ],
   "source": [
    "binary = convert_binary(13)\n",
    "consecutive = compute_consecutive(binary)\n",
    "\n",
    "print(binary, consecutive)"
   ]
  },
  {
   "cell_type": "code",
   "execution_count": 5,
   "id": "7ab29dfb",
   "metadata": {},
   "outputs": [
    {
     "name": "stdout",
     "output_type": "stream",
     "text": [
      "2\n"
     ]
    }
   ],
   "source": [
    "consecutive = compute_consecutive(convert_binary(13))\n",
    "print(consecutive)"
   ]
  },
  {
   "cell_type": "code",
   "execution_count": null,
   "id": "f4dd69b7",
   "metadata": {},
   "outputs": [],
   "source": []
  }
 ],
 "metadata": {
  "kernelspec": {
   "display_name": "Python 3",
   "language": "python",
   "name": "python3"
  },
  "language_info": {
   "codemirror_mode": {
    "name": "ipython",
    "version": 3
   },
   "file_extension": ".py",
   "mimetype": "text/x-python",
   "name": "python",
   "nbconvert_exporter": "python",
   "pygments_lexer": "ipython3",
   "version": "3.7.10"
  }
 },
 "nbformat": 4,
 "nbformat_minor": 5
}
