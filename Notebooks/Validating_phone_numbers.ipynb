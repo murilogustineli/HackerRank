{
 "cells": [
  {
   "cell_type": "markdown",
   "id": "42ff3737-953e-46ae-8cc6-cd5797b83be2",
   "metadata": {},
   "source": [
    "# HackerRank\n",
    "## Validating phone numbers\n",
    "https://www.hackerrank.com/challenges/validating-the-phone-number/problem"
   ]
  },
  {
   "cell_type": "code",
   "execution_count": 1,
   "id": "5c3b2894-a9fd-4c58-b637-efeb4f3a3450",
   "metadata": {},
   "outputs": [],
   "source": [
    "n = 3\n",
    "nums = '8F54698745 9898959398 879546242'\n",
    "nums = nums.split(' ')"
   ]
  },
  {
   "cell_type": "code",
   "execution_count": 2,
   "id": "70a0d057-d136-431e-acb3-9eb08f6f155a",
   "metadata": {},
   "outputs": [
    {
     "name": "stdout",
     "output_type": "stream",
     "text": [
      "NO\n",
      "YES\n",
      "NO\n"
     ]
    }
   ],
   "source": [
    "phone = []\n",
    "valid = '789'\n",
    "\n",
    "for i in range(n):\n",
    "    phone.append(nums[i])\n",
    "\n",
    "for i in range(len(phone)):\n",
    "    if (phone[i][0] in valid) and len(phone[i]) == 10 and (phone[i].isdigit()):\n",
    "        print('YES')\n",
    "    else:\n",
    "        print('NO')"
   ]
  }
 ],
 "metadata": {
  "kernelspec": {
   "display_name": "Python 3",
   "language": "python",
   "name": "python3"
  },
  "language_info": {
   "codemirror_mode": {
    "name": "ipython",
    "version": 3
   },
   "file_extension": ".py",
   "mimetype": "text/x-python",
   "name": "python",
   "nbconvert_exporter": "python",
   "pygments_lexer": "ipython3",
   "version": "3.8.8"
  }
 },
 "nbformat": 4,
 "nbformat_minor": 5
}
