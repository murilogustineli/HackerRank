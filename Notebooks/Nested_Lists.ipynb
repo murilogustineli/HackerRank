{
 "cells": [
  {
   "cell_type": "markdown",
   "id": "d3b89ecf",
   "metadata": {},
   "source": [
    "# HackerRank\n",
    "### Nested Lists\n",
    "https://www.hackerrank.com/challenges/nested-list/problem"
   ]
  },
  {
   "cell_type": "code",
   "execution_count": 52,
   "id": "308854bc",
   "metadata": {},
   "outputs": [],
   "source": [
    "names = ['Harry', 'Berry', 'Tina', 'Akriti', 'Harsh']\n",
    "scores = [37.21, 37.21, 37.2, 41, 39]\n",
    "num_students = len(names)"
   ]
  },
  {
   "cell_type": "code",
   "execution_count": 66,
   "id": "70533926",
   "metadata": {},
   "outputs": [
    {
     "name": "stdout",
     "output_type": "stream",
     "text": [
      "Berry\n",
      "Harry\n"
     ]
    }
   ],
   "source": [
    "# record = [['name1', score1], ['name2', score2], ...]\n",
    "record = []\n",
    "\n",
    "for i in range(num_students):\n",
    "    record.append([names[i], scores[i]])\n",
    "\n",
    "second_lowest = sorted(set(score for name, score in record))[1]\n",
    "result = [name for name, score in sorted(record) if score == second_lowest]\n",
    "print(*result, sep='\\n')"
   ]
  },
  {
   "cell_type": "code",
   "execution_count": null,
   "id": "6a1d4983",
   "metadata": {},
   "outputs": [],
   "source": []
  }
 ],
 "metadata": {
  "kernelspec": {
   "display_name": "Python 3",
   "language": "python",
   "name": "python3"
  },
  "language_info": {
   "codemirror_mode": {
    "name": "ipython",
    "version": 3
   },
   "file_extension": ".py",
   "mimetype": "text/x-python",
   "name": "python",
   "nbconvert_exporter": "python",
   "pygments_lexer": "ipython3",
   "version": "3.8.8"
  }
 },
 "nbformat": 4,
 "nbformat_minor": 5
}
