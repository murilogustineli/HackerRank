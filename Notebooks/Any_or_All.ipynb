{
 "cells": [
  {
   "cell_type": "markdown",
   "id": "f3d4780a-65cb-47f0-baa2-c3bca5dcdeed",
   "metadata": {},
   "source": [
    "# Hacker Rank\n",
    "## Any or All\n",
    "https://www.hackerrank.com/challenges/any-or-all/problem"
   ]
  },
  {
   "cell_type": "code",
   "execution_count": 1,
   "id": "5ef305de-ef9c-4f4f-bc22-033b456811df",
   "metadata": {},
   "outputs": [],
   "source": [
    "inp = '5' # number of elements\n",
    "string = '12 9 61 5 14'"
   ]
  },
  {
   "cell_type": "code",
   "execution_count": 2,
   "id": "8042b950-8426-42fa-aefe-f5a73bbfd52d",
   "metadata": {},
   "outputs": [
    {
     "name": "stdout",
     "output_type": "stream",
     "text": [
      "True\n"
     ]
    }
   ],
   "source": [
    "# Split string into a list of integers\n",
    "n = int(inp)\n",
    "nums = list(map(int, string.split(' ')))\n",
    "\n",
    "# Print results\n",
    "print(any(nums))"
   ]
  },
  {
   "cell_type": "code",
   "execution_count": 4,
   "id": "3c1d54b0-db3c-4225-8c8b-549ee79497bb",
   "metadata": {},
   "outputs": [
    {
     "name": "stdout",
     "output_type": "stream",
     "text": [
      "False\n"
     ]
    }
   ],
   "source": [
    "string = '1 2 3 4 5 -9'\n",
    "arr = list(map(int, string.split(' ')))\n",
    "    \n",
    "\n",
    "print(all(i >=0 for i in arr) and any(i == i[::-1]for i in arr))"
   ]
  }
 ],
 "metadata": {
  "kernelspec": {
   "display_name": "Python 3",
   "language": "python",
   "name": "python3"
  },
  "language_info": {
   "codemirror_mode": {
    "name": "ipython",
    "version": 3
   },
   "file_extension": ".py",
   "mimetype": "text/x-python",
   "name": "python",
   "nbconvert_exporter": "python",
   "pygments_lexer": "ipython3",
   "version": "3.8.8"
  }
 },
 "nbformat": 4,
 "nbformat_minor": 5
}
