{
 "cells": [
  {
   "cell_type": "markdown",
   "id": "cca253ad-2fb7-463a-b4dc-d4c58d9633ad",
   "metadata": {},
   "source": [
    "# HackerRank\n",
    "# ginortS\n",
    "https://www.hackerrank.com/challenges/ginorts/problem"
   ]
  },
  {
   "cell_type": "code",
   "execution_count": 1,
   "id": "054f8fe8-d3ad-465e-8693-0ba2c5dae112",
   "metadata": {},
   "outputs": [
    {
     "name": "stdout",
     "output_type": "stream",
     "text": [
      "ginortS1324"
     ]
    }
   ],
   "source": [
    "s = 'Sorting1234'\n",
    "sort1 = []\n",
    "sort2 = []\n",
    "sort3 = []\n",
    "sort4 = []\n",
    "\n",
    "for i in range(len(s)):\n",
    "    if s[i].islower() == True:\n",
    "        sort1.append(s[i])\n",
    "    sort1.sort()\n",
    "    if s[i].isupper() == True:\n",
    "        sort2.append(s[i])\n",
    "    sort2.sort()\n",
    "    if s[i].isnumeric() == True:\n",
    "        if int(s[i]) %2 != 0:\n",
    "            sort3.append(s[i])\n",
    "            sort3.sort()\n",
    "    if s[i].isnumeric() == True:\n",
    "        if int(s[i]) %2 == 0:\n",
    "            sort4.append(s[i])\n",
    "            sort4.sort()\n",
    "    \n",
    "combine = sort1+sort2+sort3+sort4\n",
    "\n",
    "for i in combine:\n",
    "    print(i, end='')"
   ]
  },
  {
   "cell_type": "markdown",
   "id": "9a199a26-eb65-446c-a9a6-dc83d61a973e",
   "metadata": {},
   "source": [
    "## Another way to solve the problem"
   ]
  },
  {
   "cell_type": "code",
   "execution_count": 2,
   "id": "7b598118-96fa-44bb-bb9e-24b9af163b02",
   "metadata": {},
   "outputs": [
    {
     "name": "stdout",
     "output_type": "stream",
     "text": [
      "ginortS1324\n"
     ]
    }
   ],
   "source": [
    "s = 'Sorting1234'\n",
    "print(*sorted(s, key=lambda c: (c.isdigit() - c.islower(), c in '02468', c)), sep='')"
   ]
  },
  {
   "cell_type": "code",
   "execution_count": 3,
   "id": "ece737cd-4c06-414a-b003-e4ee08b5d875",
   "metadata": {},
   "outputs": [
    {
     "name": "stdout",
     "output_type": "stream",
     "text": [
      "ginortS1324\n"
     ]
    }
   ],
   "source": [
    "s = 'Sorting1234'\n",
    "\n",
    "def getKey(x):\n",
    "    if x.islower():\n",
    "        return(1, x)\n",
    "    elif x.isupper():\n",
    "        return(2, x)\n",
    "    elif x.isdigit() :\n",
    "        if int(x) %2 == 1:\n",
    "            return(3, x)\n",
    "        else :\n",
    "            return(4,x)\n",
    "\n",
    "print(*sorted(s, key=getKey), sep='')"
   ]
  }
 ],
 "metadata": {
  "kernelspec": {
   "display_name": "Python 3",
   "language": "python",
   "name": "python3"
  },
  "language_info": {
   "codemirror_mode": {
    "name": "ipython",
    "version": 3
   },
   "file_extension": ".py",
   "mimetype": "text/x-python",
   "name": "python",
   "nbconvert_exporter": "python",
   "pygments_lexer": "ipython3",
   "version": "3.8.8"
  }
 },
 "nbformat": 4,
 "nbformat_minor": 5
}
