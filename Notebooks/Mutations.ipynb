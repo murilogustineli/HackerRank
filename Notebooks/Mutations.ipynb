{
 "cells": [
  {
   "cell_type": "markdown",
   "id": "dc0f792f",
   "metadata": {},
   "source": [
    "# HackerRank\n",
    "### Mutations\n",
    "https://www.hackerrank.com/challenges/python-mutations/problem\n",
    "\n",
    "**Problem**\n",
    "<br>We have seen that lists are mutable (they can be changed), and tuples are immutable (they cannot be changed). \n",
    "\n",
    "Let's try to understand this with an example:\n",
    "\n",
    "You are given an immutable string, and you want to make changes to it.\n",
    "<br>`string = \"abracadabra\"`\n",
    "\n",
    "<br>You can access an index by:\n",
    "<br>`print(string[5])`\n",
    "> a\n",
    "\n",
    "What if you would like to assign a value?\n",
    "<br>`string[5] = \"k\"`\n",
    "> **TypeError:** 'str' object does not support item assignment\n",
    "\n",
    "How would you approach this?\n",
    "- One solution is to convert the string to a list and then change the value.\n",
    "<br>`string = \"abracadabra\"`\n",
    "<br>`l = list(string)`\n",
    "<br>`l[5] = 'k'`\n",
    "<br>`string = ''.join(l)`\n",
    "<br>`print string`\n",
    "> abrackdabra\n",
    "\n",
    "- Another approach is to slice the string and join it back.\n",
    "<br>`string = string[:5] + \"k\" + string[6:]`\n",
    "<br>`print string`\n",
    "> abrackdabra\n",
    "\n",
    "**Task**\n",
    "<br>Read a given string, change the character at a given index and then print the modified string.\n",
    "\n",
    "**Function Description**\n",
    "<br>Complete the _**mutate_string**_ function in the editor below.\n",
    "\n",
    "_**mutate_string**_ has the following parameters:\n",
    "- string string: the string to change\n",
    "- int position: the index to insert the character at\n",
    "- string character: the character to insert\n",
    "\n",
    "**Returns**\n",
    "<br>string: the altered string\n",
    "\n",
    "**Input Format**\n",
    "<br>The first line contains a string, _**string**_.\n",
    "<br>The next line contains an integer _**position**_, the index location and a string _**character**_, separated by a space.\n",
    "\n",
    "**Sample input**\n",
    "<br>`\n",
    "STDIN           Function\n",
    "abracadabra     s = 'abracadabra'\n",
    "5 k             position = 5, character = 'k'\n",
    "`\n",
    "\n",
    "**Sample output**\n",
    ">abrackdabra"
   ]
  },
  {
   "cell_type": "code",
   "execution_count": 1,
   "id": "6174f2ea",
   "metadata": {},
   "outputs": [
    {
     "name": "stdout",
     "output_type": "stream",
     "text": [
      "abrackdabra\n",
      "abrackdabra\n"
     ]
    }
   ],
   "source": [
    "string = 'abracadabra'\n",
    "position = 5\n",
    "character = \"k\"\n",
    "\n",
    "# 1. using list to solve the problem\n",
    "lst = list(string)\n",
    "lst[position] = character\n",
    "string = ''.join(lst)\n",
    "print(string)\n",
    "\n",
    "# 2. using slicing to solve the problem\n",
    "string = string[:position] + character + string[position+1:]\n",
    "print(string)"
   ]
  },
  {
   "cell_type": "code",
   "execution_count": 2,
   "id": "dd359b35",
   "metadata": {},
   "outputs": [
    {
     "data": {
      "text/plain": [
       "'abrackdabra'"
      ]
     },
     "execution_count": 2,
     "metadata": {},
     "output_type": "execute_result"
    }
   ],
   "source": [
    "# Function using a list to solve the problem\n",
    "def mutate_string(string, position, character):\n",
    "    lst = list(string)\n",
    "    lst[position] = character\n",
    "    string = ''.join(lst)\n",
    "    return string\n",
    "\n",
    "# Define arguments\n",
    "string = 'abracadabra'\n",
    "position = 5\n",
    "character = \"k\"\n",
    "\n",
    "# Call function\n",
    "mutate_string(string, position, character)"
   ]
  },
  {
   "cell_type": "code",
   "execution_count": 3,
   "id": "db59576a",
   "metadata": {},
   "outputs": [
    {
     "data": {
      "text/plain": [
       "'abrackdabra'"
      ]
     },
     "execution_count": 3,
     "metadata": {},
     "output_type": "execute_result"
    }
   ],
   "source": [
    "# Function using string slicing to solve the problem\n",
    "def mutate_string(string, position, character):\n",
    "    return string[:position] + character + string[position+1:]\n",
    "\n",
    "mutate_string(string, position, character)"
   ]
  },
  {
   "cell_type": "code",
   "execution_count": null,
   "id": "cd1b9f14",
   "metadata": {},
   "outputs": [],
   "source": []
  }
 ],
 "metadata": {
  "kernelspec": {
   "display_name": "Python 3",
   "language": "python",
   "name": "python3"
  },
  "language_info": {
   "codemirror_mode": {
    "name": "ipython",
    "version": 3
   },
   "file_extension": ".py",
   "mimetype": "text/x-python",
   "name": "python",
   "nbconvert_exporter": "python",
   "pygments_lexer": "ipython3",
   "version": "3.8.8"
  }
 },
 "nbformat": 4,
 "nbformat_minor": 5
}
