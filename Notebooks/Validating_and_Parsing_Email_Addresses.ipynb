{
 "cells": [
  {
   "cell_type": "markdown",
   "id": "944234b4-0dba-4e6b-b82c-aa9cb5515297",
   "metadata": {},
   "source": [
    "# HackerRank\n",
    "## Validating and Parsing Email Addresses\n",
    "https://www.hackerrank.com/challenges/validating-named-email-addresses/problem"
   ]
  },
  {
   "cell_type": "code",
   "execution_count": 1,
   "id": "14c58509-e9ed-4fb9-ae61-792723799a39",
   "metadata": {},
   "outputs": [
    {
     "name": "stdout",
     "output_type": "stream",
     "text": [
      "('DOSHI', 'DOSHI@hackerrank.com')\n",
      "DOSHI <DOSHI@hackerrank.com>\n"
     ]
    }
   ],
   "source": [
    "import email.utils\n",
    "print(email.utils.parseaddr('DOSHI <DOSHI@hackerrank.com>'))\n",
    "print(email.utils.formataddr(('DOSHI', 'DOSHI@hackerrank.com')))"
   ]
  },
  {
   "cell_type": "code",
   "execution_count": 2,
   "id": "2ae1fdaf-e178-43c9-bf90-faa98e082e03",
   "metadata": {},
   "outputs": [
    {
     "name": "stdout",
     "output_type": "stream",
     "text": [
      "DEXTER <dexter@hotmail.com>\n"
     ]
    }
   ],
   "source": [
    "import re\n",
    "\n",
    "n = 2\n",
    "emails = ['DEXTER <dexter@hotmail.com>', 'VIRUS <virus!@variable.:p>']\n",
    "\n",
    "for i in range(n):\n",
    "    x, y = emails[i].split(' ')[0], emails[i].split(' ')[1]\n",
    "    m = re.match(r'<[A-Za-z](\\w|-|\\.|_)+@[A-Za-z]+\\.[A-Za-z]{1,3}>', y)\n",
    "    if m:\n",
    "        print(x,y)"
   ]
  }
 ],
 "metadata": {
  "kernelspec": {
   "display_name": "Python 3",
   "language": "python",
   "name": "python3"
  },
  "language_info": {
   "codemirror_mode": {
    "name": "ipython",
    "version": 3
   },
   "file_extension": ".py",
   "mimetype": "text/x-python",
   "name": "python",
   "nbconvert_exporter": "python",
   "pygments_lexer": "ipython3",
   "version": "3.8.8"
  }
 },
 "nbformat": 4,
 "nbformat_minor": 5
}
