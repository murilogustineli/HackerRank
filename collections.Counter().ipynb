{
 "cells": [
  {
   "cell_type": "markdown",
   "id": "605abf40",
   "metadata": {},
   "source": [
    "# HackerRank\n",
    "### collections.Counter()\n",
    "\n",
    "https://www.hackerrank.com/challenges/collections-counter/problem"
   ]
  },
  {
   "cell_type": "code",
   "execution_count": 3,
   "id": "4da10399",
   "metadata": {},
   "outputs": [],
   "source": [
    "from collections import Counter"
   ]
  },
  {
   "cell_type": "code",
   "execution_count": 4,
   "id": "64f83238",
   "metadata": {},
   "outputs": [
    {
     "data": {
      "text/plain": [
       "Counter({2: 1, 3: 1, 4: 1, 5: 2, 6: 2, 8: 1, 7: 1, 18: 1})"
      ]
     },
     "execution_count": 4,
     "metadata": {},
     "output_type": "execute_result"
    }
   ],
   "source": [
    "num_shoes = 10 # Number of shoes\n",
    "sizes = [2, 3, 4, 5, 6, 8, 7, 6, 5, 18] # Shoe sizes\n",
    "num_cust = 6 # Number of customers\n",
    "cust_order = [(6,55), (6,45), (6,55), (4,40), (18,60), (10,50)] # Key = size, Value = price\n",
    "shoe = Counter(sizes)\n",
    "shoe"
   ]
  },
  {
   "cell_type": "code",
   "execution_count": 5,
   "id": "0436c0b2",
   "metadata": {},
   "outputs": [
    {
     "name": "stdout",
     "output_type": "stream",
     "text": [
      "200\n"
     ]
    }
   ],
   "source": [
    "total = 0\n",
    "\n",
    "for k,v in cust_order:\n",
    "    size, price = k, v\n",
    "    if shoe[size]:\n",
    "        total += price\n",
    "        shoe[size] -= 1\n",
    "\n",
    "print(total)"
   ]
  },
  {
   "cell_type": "code",
   "execution_count": null,
   "id": "9002bfa0",
   "metadata": {},
   "outputs": [],
   "source": []
  }
 ],
 "metadata": {
  "kernelspec": {
   "display_name": "Python 3",
   "language": "python",
   "name": "python3"
  },
  "language_info": {
   "codemirror_mode": {
    "name": "ipython",
    "version": 3
   },
   "file_extension": ".py",
   "mimetype": "text/x-python",
   "name": "python",
   "nbconvert_exporter": "python",
   "pygments_lexer": "ipython3",
   "version": "3.8.8"
  }
 },
 "nbformat": 4,
 "nbformat_minor": 5
}
